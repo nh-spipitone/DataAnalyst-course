{
 "cells": [
  {
   "cell_type": "code",
   "execution_count": 6,
   "id": "b6d823d6",
   "metadata": {},
   "outputs": [
    {
     "data": {
      "text/html": [
       "<div>\n",
       "<style scoped>\n",
       "    .dataframe tbody tr th:only-of-type {\n",
       "        vertical-align: middle;\n",
       "    }\n",
       "\n",
       "    .dataframe tbody tr th {\n",
       "        vertical-align: top;\n",
       "    }\n",
       "\n",
       "    .dataframe thead th {\n",
       "        text-align: right;\n",
       "    }\n",
       "</style>\n",
       "<table border=\"1\" class=\"dataframe\">\n",
       "  <thead>\n",
       "    <tr style=\"text-align: right;\">\n",
       "      <th></th>\n",
       "      <th>Mese</th>\n",
       "      <th>Prodotto</th>\n",
       "      <th>Quantità</th>\n",
       "    </tr>\n",
       "  </thead>\n",
       "  <tbody>\n",
       "    <tr>\n",
       "      <th>0</th>\n",
       "      <td>Gen</td>\n",
       "      <td>A</td>\n",
       "      <td>120</td>\n",
       "    </tr>\n",
       "    <tr>\n",
       "      <th>1</th>\n",
       "      <td>Feb</td>\n",
       "      <td>A</td>\n",
       "      <td>135</td>\n",
       "    </tr>\n",
       "    <tr>\n",
       "      <th>2</th>\n",
       "      <td>Mar</td>\n",
       "      <td>A</td>\n",
       "      <td>150</td>\n",
       "    </tr>\n",
       "    <tr>\n",
       "      <th>3</th>\n",
       "      <td>Apr</td>\n",
       "      <td>A</td>\n",
       "      <td>145</td>\n",
       "    </tr>\n",
       "    <tr>\n",
       "      <th>4</th>\n",
       "      <td>Gen</td>\n",
       "      <td>B</td>\n",
       "      <td>90</td>\n",
       "    </tr>\n",
       "    <tr>\n",
       "      <th>5</th>\n",
       "      <td>Feb</td>\n",
       "      <td>B</td>\n",
       "      <td>95</td>\n",
       "    </tr>\n",
       "    <tr>\n",
       "      <th>6</th>\n",
       "      <td>Mar</td>\n",
       "      <td>B</td>\n",
       "      <td>100</td>\n",
       "    </tr>\n",
       "    <tr>\n",
       "      <th>7</th>\n",
       "      <td>Apr</td>\n",
       "      <td>B</td>\n",
       "      <td>105</td>\n",
       "    </tr>\n",
       "    <tr>\n",
       "      <th>8</th>\n",
       "      <td>Gen</td>\n",
       "      <td>C</td>\n",
       "      <td>60</td>\n",
       "    </tr>\n",
       "    <tr>\n",
       "      <th>9</th>\n",
       "      <td>Feb</td>\n",
       "      <td>C</td>\n",
       "      <td>65</td>\n",
       "    </tr>\n",
       "    <tr>\n",
       "      <th>10</th>\n",
       "      <td>Mar</td>\n",
       "      <td>C</td>\n",
       "      <td>70</td>\n",
       "    </tr>\n",
       "    <tr>\n",
       "      <th>11</th>\n",
       "      <td>Apr</td>\n",
       "      <td>C</td>\n",
       "      <td>80</td>\n",
       "    </tr>\n",
       "  </tbody>\n",
       "</table>\n",
       "</div>"
      ],
      "text/plain": [
       "   Mese Prodotto  Quantità\n",
       "0   Gen        A       120\n",
       "1   Feb        A       135\n",
       "2   Mar        A       150\n",
       "3   Apr        A       145\n",
       "4   Gen        B        90\n",
       "5   Feb        B        95\n",
       "6   Mar        B       100\n",
       "7   Apr        B       105\n",
       "8   Gen        C        60\n",
       "9   Feb        C        65\n",
       "10  Mar        C        70\n",
       "11  Apr        C        80"
      ]
     },
     "execution_count": 6,
     "metadata": {},
     "output_type": "execute_result"
    }
   ],
   "source": [
    "import pandas as pd\n",
    "\n",
    "dati = {\n",
    "    \"Mese\": [\"Gen\", \"Feb\", \"Mar\", \"Apr\"] * 3,\n",
    "    \"Prodotto\": [\"A\"]*4 + [\"B\"]*4 + [\"C\"]*4,\n",
    "    \"Quantità\": [120, 135, 150, 145,   # A\n",
    "                 90,  95,  100, 105,    # B\n",
    "                 60,  65,   70,  80]    # C\n",
    "}\n",
    "df = pd.DataFrame(dati)\n",
    "\n",
    "#df.sort_values(by=[\"Mese\", \"Prodotto\"], inplace=True)\n",
    "\n",
    "df.head(12)"
   ]
  },
  {
   "cell_type": "code",
   "execution_count": 3,
   "id": "ad59834e",
   "metadata": {},
   "outputs": [
    {
     "data": {
      "text/plain": [
       "Mese        object\n",
       "Prodotto    object\n",
       "Quantità     int64\n",
       "dtype: object"
      ]
     },
     "execution_count": 3,
     "metadata": {},
     "output_type": "execute_result"
    }
   ],
   "source": [
    "df.dtypes"
   ]
  },
  {
   "cell_type": "markdown",
   "id": "217335cd",
   "metadata": {},
   "source": [
    "Esempi di filtri per i dati"
   ]
  },
  {
   "cell_type": "code",
   "execution_count": 7,
   "id": "7e5ecc1a",
   "metadata": {},
   "outputs": [
    {
     "data": {
      "text/html": [
       "<div>\n",
       "<style scoped>\n",
       "    .dataframe tbody tr th:only-of-type {\n",
       "        vertical-align: middle;\n",
       "    }\n",
       "\n",
       "    .dataframe tbody tr th {\n",
       "        vertical-align: top;\n",
       "    }\n",
       "\n",
       "    .dataframe thead th {\n",
       "        text-align: right;\n",
       "    }\n",
       "</style>\n",
       "<table border=\"1\" class=\"dataframe\">\n",
       "  <thead>\n",
       "    <tr style=\"text-align: right;\">\n",
       "      <th></th>\n",
       "      <th>Mese</th>\n",
       "      <th>Prodotto</th>\n",
       "      <th>Quantità</th>\n",
       "    </tr>\n",
       "  </thead>\n",
       "  <tbody>\n",
       "    <tr>\n",
       "      <th>4</th>\n",
       "      <td>Gen</td>\n",
       "      <td>B</td>\n",
       "      <td>90</td>\n",
       "    </tr>\n",
       "    <tr>\n",
       "      <th>5</th>\n",
       "      <td>Feb</td>\n",
       "      <td>B</td>\n",
       "      <td>95</td>\n",
       "    </tr>\n",
       "    <tr>\n",
       "      <th>6</th>\n",
       "      <td>Mar</td>\n",
       "      <td>B</td>\n",
       "      <td>100</td>\n",
       "    </tr>\n",
       "    <tr>\n",
       "      <th>7</th>\n",
       "      <td>Apr</td>\n",
       "      <td>B</td>\n",
       "      <td>105</td>\n",
       "    </tr>\n",
       "  </tbody>\n",
       "</table>\n",
       "</div>"
      ],
      "text/plain": [
       "  Mese Prodotto  Quantità\n",
       "4  Gen        B        90\n",
       "5  Feb        B        95\n",
       "6  Mar        B       100\n",
       "7  Apr        B       105"
      ]
     },
     "execution_count": 7,
     "metadata": {},
     "output_type": "execute_result"
    }
   ],
   "source": [
    "df[df[\"Prodotto\"] == \"B\"]"
   ]
  },
  {
   "cell_type": "code",
   "execution_count": 8,
   "id": "283e0c23",
   "metadata": {},
   "outputs": [
    {
     "data": {
      "text/html": [
       "<div>\n",
       "<style scoped>\n",
       "    .dataframe tbody tr th:only-of-type {\n",
       "        vertical-align: middle;\n",
       "    }\n",
       "\n",
       "    .dataframe tbody tr th {\n",
       "        vertical-align: top;\n",
       "    }\n",
       "\n",
       "    .dataframe thead th {\n",
       "        text-align: right;\n",
       "    }\n",
       "</style>\n",
       "<table border=\"1\" class=\"dataframe\">\n",
       "  <thead>\n",
       "    <tr style=\"text-align: right;\">\n",
       "      <th></th>\n",
       "      <th>Mese</th>\n",
       "      <th>Prodotto</th>\n",
       "      <th>Quantità</th>\n",
       "    </tr>\n",
       "  </thead>\n",
       "  <tbody>\n",
       "    <tr>\n",
       "      <th>0</th>\n",
       "      <td>Gen</td>\n",
       "      <td>A</td>\n",
       "      <td>120</td>\n",
       "    </tr>\n",
       "    <tr>\n",
       "      <th>1</th>\n",
       "      <td>Feb</td>\n",
       "      <td>A</td>\n",
       "      <td>135</td>\n",
       "    </tr>\n",
       "    <tr>\n",
       "      <th>2</th>\n",
       "      <td>Mar</td>\n",
       "      <td>A</td>\n",
       "      <td>150</td>\n",
       "    </tr>\n",
       "    <tr>\n",
       "      <th>3</th>\n",
       "      <td>Apr</td>\n",
       "      <td>A</td>\n",
       "      <td>145</td>\n",
       "    </tr>\n",
       "    <tr>\n",
       "      <th>7</th>\n",
       "      <td>Apr</td>\n",
       "      <td>B</td>\n",
       "      <td>105</td>\n",
       "    </tr>\n",
       "  </tbody>\n",
       "</table>\n",
       "</div>"
      ],
      "text/plain": [
       "  Mese Prodotto  Quantità\n",
       "0  Gen        A       120\n",
       "1  Feb        A       135\n",
       "2  Mar        A       150\n",
       "3  Apr        A       145\n",
       "7  Apr        B       105"
      ]
     },
     "execution_count": 8,
     "metadata": {},
     "output_type": "execute_result"
    }
   ],
   "source": [
    "df[df[\"Quantità\"] > 100]"
   ]
  },
  {
   "cell_type": "code",
   "execution_count": 9,
   "id": "270e1bb7",
   "metadata": {},
   "outputs": [
    {
     "data": {
      "text/html": [
       "<div>\n",
       "<style scoped>\n",
       "    .dataframe tbody tr th:only-of-type {\n",
       "        vertical-align: middle;\n",
       "    }\n",
       "\n",
       "    .dataframe tbody tr th {\n",
       "        vertical-align: top;\n",
       "    }\n",
       "\n",
       "    .dataframe thead th {\n",
       "        text-align: right;\n",
       "    }\n",
       "</style>\n",
       "<table border=\"1\" class=\"dataframe\">\n",
       "  <thead>\n",
       "    <tr style=\"text-align: right;\">\n",
       "      <th></th>\n",
       "      <th>Mese</th>\n",
       "      <th>Quantità</th>\n",
       "    </tr>\n",
       "  </thead>\n",
       "  <tbody>\n",
       "    <tr>\n",
       "      <th>0</th>\n",
       "      <td>Gen</td>\n",
       "      <td>120</td>\n",
       "    </tr>\n",
       "    <tr>\n",
       "      <th>1</th>\n",
       "      <td>Feb</td>\n",
       "      <td>135</td>\n",
       "    </tr>\n",
       "    <tr>\n",
       "      <th>2</th>\n",
       "      <td>Mar</td>\n",
       "      <td>150</td>\n",
       "    </tr>\n",
       "    <tr>\n",
       "      <th>3</th>\n",
       "      <td>Apr</td>\n",
       "      <td>145</td>\n",
       "    </tr>\n",
       "  </tbody>\n",
       "</table>\n",
       "</div>"
      ],
      "text/plain": [
       "  Mese  Quantità\n",
       "0  Gen       120\n",
       "1  Feb       135\n",
       "2  Mar       150\n",
       "3  Apr       145"
      ]
     },
     "execution_count": 9,
     "metadata": {},
     "output_type": "execute_result"
    }
   ],
   "source": [
    "df.loc[df[\"Prodotto\"] == \"A\", [\"Mese\", \"Quantità\"]]"
   ]
  },
  {
   "cell_type": "code",
   "execution_count": 10,
   "id": "f5ab4682",
   "metadata": {},
   "outputs": [
    {
     "data": {
      "text/html": [
       "<div>\n",
       "<style scoped>\n",
       "    .dataframe tbody tr th:only-of-type {\n",
       "        vertical-align: middle;\n",
       "    }\n",
       "\n",
       "    .dataframe tbody tr th {\n",
       "        vertical-align: top;\n",
       "    }\n",
       "\n",
       "    .dataframe thead th {\n",
       "        text-align: right;\n",
       "    }\n",
       "</style>\n",
       "<table border=\"1\" class=\"dataframe\">\n",
       "  <thead>\n",
       "    <tr style=\"text-align: right;\">\n",
       "      <th></th>\n",
       "      <th>Mese</th>\n",
       "      <th>Quantità</th>\n",
       "    </tr>\n",
       "  </thead>\n",
       "  <tbody>\n",
       "    <tr>\n",
       "      <th>8</th>\n",
       "      <td>Gen</td>\n",
       "      <td>60</td>\n",
       "    </tr>\n",
       "    <tr>\n",
       "      <th>9</th>\n",
       "      <td>Feb</td>\n",
       "      <td>65</td>\n",
       "    </tr>\n",
       "    <tr>\n",
       "      <th>10</th>\n",
       "      <td>Mar</td>\n",
       "      <td>70</td>\n",
       "    </tr>\n",
       "  </tbody>\n",
       "</table>\n",
       "</div>"
      ],
      "text/plain": [
       "   Mese  Quantità\n",
       "8   Gen        60\n",
       "9   Feb        65\n",
       "10  Mar        70"
      ]
     },
     "execution_count": 10,
     "metadata": {},
     "output_type": "execute_result"
    }
   ],
   "source": [
    "# Prodotto C con quantità ≤ 70\n",
    "df.loc[(df[\"Prodotto\"] == \"C\") & (df[\"Quantità\"] <= 70), [\"Mese\", \"Quantità\"]]"
   ]
  },
  {
   "cell_type": "code",
   "execution_count": 14,
   "id": "24973455",
   "metadata": {},
   "outputs": [
    {
     "data": {
      "text/html": [
       "<div>\n",
       "<style scoped>\n",
       "    .dataframe tbody tr th:only-of-type {\n",
       "        vertical-align: middle;\n",
       "    }\n",
       "\n",
       "    .dataframe tbody tr th {\n",
       "        vertical-align: top;\n",
       "    }\n",
       "\n",
       "    .dataframe thead th {\n",
       "        text-align: right;\n",
       "    }\n",
       "</style>\n",
       "<table border=\"1\" class=\"dataframe\">\n",
       "  <thead>\n",
       "    <tr style=\"text-align: right;\">\n",
       "      <th></th>\n",
       "      <th>Mese</th>\n",
       "      <th>Prodotto</th>\n",
       "      <th>Quantità</th>\n",
       "    </tr>\n",
       "  </thead>\n",
       "  <tbody>\n",
       "    <tr>\n",
       "      <th>0</th>\n",
       "      <td>Gen</td>\n",
       "      <td>A</td>\n",
       "      <td>120</td>\n",
       "    </tr>\n",
       "    <tr>\n",
       "      <th>1</th>\n",
       "      <td>Feb</td>\n",
       "      <td>A</td>\n",
       "      <td>135</td>\n",
       "    </tr>\n",
       "    <tr>\n",
       "      <th>4</th>\n",
       "      <td>Gen</td>\n",
       "      <td>B</td>\n",
       "      <td>90</td>\n",
       "    </tr>\n",
       "    <tr>\n",
       "      <th>5</th>\n",
       "      <td>Feb</td>\n",
       "      <td>B</td>\n",
       "      <td>95</td>\n",
       "    </tr>\n",
       "    <tr>\n",
       "      <th>8</th>\n",
       "      <td>Gen</td>\n",
       "      <td>C</td>\n",
       "      <td>60</td>\n",
       "    </tr>\n",
       "    <tr>\n",
       "      <th>9</th>\n",
       "      <td>Feb</td>\n",
       "      <td>C</td>\n",
       "      <td>65</td>\n",
       "    </tr>\n",
       "  </tbody>\n",
       "</table>\n",
       "</div>"
      ],
      "text/plain": [
       "  Mese Prodotto  Quantità\n",
       "0  Gen        A       120\n",
       "1  Feb        A       135\n",
       "4  Gen        B        90\n",
       "5  Feb        B        95\n",
       "8  Gen        C        60\n",
       "9  Feb        C        65"
      ]
     },
     "execution_count": 14,
     "metadata": {},
     "output_type": "execute_result"
    }
   ],
   "source": [
    "# Mesi Gen o Feb\n",
    "df[df[\"Mese\"].isin([\"Gen\", \"Feb\"])]"
   ]
  },
  {
   "cell_type": "code",
   "execution_count": 15,
   "id": "65a4d6ff",
   "metadata": {},
   "outputs": [
    {
     "data": {
      "text/html": [
       "<div>\n",
       "<style scoped>\n",
       "    .dataframe tbody tr th:only-of-type {\n",
       "        vertical-align: middle;\n",
       "    }\n",
       "\n",
       "    .dataframe tbody tr th {\n",
       "        vertical-align: top;\n",
       "    }\n",
       "\n",
       "    .dataframe thead th {\n",
       "        text-align: right;\n",
       "    }\n",
       "</style>\n",
       "<table border=\"1\" class=\"dataframe\">\n",
       "  <thead>\n",
       "    <tr style=\"text-align: right;\">\n",
       "      <th></th>\n",
       "      <th>Mese</th>\n",
       "      <th>Prodotto</th>\n",
       "      <th>Quantità</th>\n",
       "    </tr>\n",
       "  </thead>\n",
       "  <tbody>\n",
       "    <tr>\n",
       "      <th>0</th>\n",
       "      <td>Gen</td>\n",
       "      <td>A</td>\n",
       "      <td>120</td>\n",
       "    </tr>\n",
       "    <tr>\n",
       "      <th>4</th>\n",
       "      <td>Gen</td>\n",
       "      <td>B</td>\n",
       "      <td>90</td>\n",
       "    </tr>\n",
       "    <tr>\n",
       "      <th>5</th>\n",
       "      <td>Feb</td>\n",
       "      <td>B</td>\n",
       "      <td>95</td>\n",
       "    </tr>\n",
       "    <tr>\n",
       "      <th>6</th>\n",
       "      <td>Mar</td>\n",
       "      <td>B</td>\n",
       "      <td>100</td>\n",
       "    </tr>\n",
       "    <tr>\n",
       "      <th>7</th>\n",
       "      <td>Apr</td>\n",
       "      <td>B</td>\n",
       "      <td>105</td>\n",
       "    </tr>\n",
       "  </tbody>\n",
       "</table>\n",
       "</div>"
      ],
      "text/plain": [
       "  Mese Prodotto  Quantità\n",
       "0  Gen        A       120\n",
       "4  Gen        B        90\n",
       "5  Feb        B        95\n",
       "6  Mar        B       100\n",
       "7  Apr        B       105"
      ]
     },
     "execution_count": 15,
     "metadata": {},
     "output_type": "execute_result"
    }
   ],
   "source": [
    "# Quantità compresa tra 90 e 130 (inclusi)\n",
    "df[df[\"Quantità\"].between(90, 130)]"
   ]
  },
  {
   "cell_type": "code",
   "execution_count": 16,
   "id": "54c9c4f7",
   "metadata": {},
   "outputs": [
    {
     "data": {
      "text/html": [
       "<div>\n",
       "<style scoped>\n",
       "    .dataframe tbody tr th:only-of-type {\n",
       "        vertical-align: middle;\n",
       "    }\n",
       "\n",
       "    .dataframe tbody tr th {\n",
       "        vertical-align: top;\n",
       "    }\n",
       "\n",
       "    .dataframe thead th {\n",
       "        text-align: right;\n",
       "    }\n",
       "</style>\n",
       "<table border=\"1\" class=\"dataframe\">\n",
       "  <thead>\n",
       "    <tr style=\"text-align: right;\">\n",
       "      <th></th>\n",
       "      <th>Mese</th>\n",
       "      <th>Prodotto</th>\n",
       "      <th>Quantità</th>\n",
       "    </tr>\n",
       "  </thead>\n",
       "  <tbody>\n",
       "    <tr>\n",
       "      <th>0</th>\n",
       "      <td>Gen</td>\n",
       "      <td>A</td>\n",
       "      <td>120</td>\n",
       "    </tr>\n",
       "    <tr>\n",
       "      <th>1</th>\n",
       "      <td>Feb</td>\n",
       "      <td>A</td>\n",
       "      <td>135</td>\n",
       "    </tr>\n",
       "    <tr>\n",
       "      <th>2</th>\n",
       "      <td>Mar</td>\n",
       "      <td>A</td>\n",
       "      <td>150</td>\n",
       "    </tr>\n",
       "    <tr>\n",
       "      <th>4</th>\n",
       "      <td>Gen</td>\n",
       "      <td>B</td>\n",
       "      <td>90</td>\n",
       "    </tr>\n",
       "    <tr>\n",
       "      <th>5</th>\n",
       "      <td>Feb</td>\n",
       "      <td>B</td>\n",
       "      <td>95</td>\n",
       "    </tr>\n",
       "    <tr>\n",
       "      <th>6</th>\n",
       "      <td>Mar</td>\n",
       "      <td>B</td>\n",
       "      <td>100</td>\n",
       "    </tr>\n",
       "    <tr>\n",
       "      <th>8</th>\n",
       "      <td>Gen</td>\n",
       "      <td>C</td>\n",
       "      <td>60</td>\n",
       "    </tr>\n",
       "    <tr>\n",
       "      <th>9</th>\n",
       "      <td>Feb</td>\n",
       "      <td>C</td>\n",
       "      <td>65</td>\n",
       "    </tr>\n",
       "    <tr>\n",
       "      <th>10</th>\n",
       "      <td>Mar</td>\n",
       "      <td>C</td>\n",
       "      <td>70</td>\n",
       "    </tr>\n",
       "  </tbody>\n",
       "</table>\n",
       "</div>"
      ],
      "text/plain": [
       "   Mese Prodotto  Quantità\n",
       "0   Gen        A       120\n",
       "1   Feb        A       135\n",
       "2   Mar        A       150\n",
       "4   Gen        B        90\n",
       "5   Feb        B        95\n",
       "6   Mar        B       100\n",
       "8   Gen        C        60\n",
       "9   Feb        C        65\n",
       "10  Mar        C        70"
      ]
     },
     "execution_count": 16,
     "metadata": {},
     "output_type": "execute_result"
    }
   ],
   "source": [
    "# Tutti i dati tranne Aprile\n",
    "df[df[\"Mese\"] != \"Apr\"]"
   ]
  },
  {
   "cell_type": "markdown",
   "id": "be56a7cc",
   "metadata": {},
   "source": [
    "Aggregato semplice"
   ]
  },
  {
   "cell_type": "code",
   "execution_count": 25,
   "id": "adc2b2ee",
   "metadata": {},
   "outputs": [
    {
     "name": "stdout",
     "output_type": "stream",
     "text": [
      "Prodotto\n",
      "A    550\n",
      "B    390\n",
      "C    275\n",
      "Name: Quantità, dtype: int64\n"
     ]
    }
   ],
   "source": [
    "totali = df.groupby(\"Prodotto\")[\"Quantità\"].sum()\n",
    "#totali = totali.reset_index()\n",
    "#totali.columns = [\"Prodotto\", \"Totale\"]\n",
    "print(totali)  # Atteso: A=550, B=390, C=275"
   ]
  },
  {
   "cell_type": "markdown",
   "id": "8aa62ec2",
   "metadata": {},
   "source": [
    "Visualizzazione con due subplot"
   ]
  },
  {
   "cell_type": "code",
   "execution_count": 32,
   "id": "63f2306b",
   "metadata": {},
   "outputs": [
    {
     "data": {
      "image/png": "[encoded data removed]",
      "text/plain": [
       "<Figure size 1000x400 with 2 Axes>"
      ]
     },
     "metadata": {},
     "output_type": "display_data"
    }
   ],
   "source": [
    "import matplotlib.pyplot as plt\n",
    "\n",
    "fig, axes = plt.subplots(1, 2, figsize=(10, 4))\n",
    "\n",
    "# Subplot 1 – Grafico a barre dei totali\n",
    "totali.plot(kind=\"bar\", ax=axes[0])\n",
    "axes[0].set_title(\"Totale vendite per prodotto\")\n",
    "axes[0].set_ylabel(\"Unità vendute\")\n",
    "# Setta le etichette dell'asse x in orizzontale\n",
    "axes[0].set_xlabel(\"Prodotto\")\n",
    "axes[0].set_xticklabels(totali.index, rotation=0)\n",
    "\n",
    "# Subplot 2 – Andamento mensile del prodotto B\n",
    "prod_b = df[df[\"Prodotto\"] == \"B\"]\n",
    "axes[1].plot(prod_b[\"Mese\"], prod_b[\"Quantità\"], marker=\"o\")\n",
    "axes[1].set_title(\"Prodotto B – andamento gennaio‑aprile\")\n",
    "axes[1].set_ylabel(\"Unità vendute\")\n",
    "axes[1].set_xlabel(\"Mese\")\n",
    "\n",
    "plt.tight_layout()\n",
    "plt.show()"
   ]
  },
  {
   "cell_type": "markdown",
   "id": "3696da04",
   "metadata": {},
   "source": [
    "### Challenge facoltativo\n",
    "1. Calcola il totale per mese\n",
    "\n",
    "2. Crea un terzo filtro con l’espressione \n",
    "> (Prodotto == \"A\" & Quantità > 130) | (Prodotto == \"C\" & Quantità < 70)\n",
    "\n",
    "3. Sostituisci il line plot del secondo subplot con un scatter plot\n",
    "> axes[1].scatter(prod_b[\"Mese\"], prod_b[\"Quantità\"])"
   ]
  },
  {
   "cell_type": "code",
   "execution_count": 34,
   "id": "4de458d3",
   "metadata": {},
   "outputs": [
    {
     "data": {
      "text/plain": [
       "Mese\n",
       "Gen    270\n",
       "Feb    295\n",
       "Mar    320\n",
       "Apr    330\n",
       "Name: Quantità, dtype: int64"
      ]
     },
     "execution_count": 34,
     "metadata": {},
     "output_type": "execute_result"
    }
   ],
   "source": [
    "# Calcola il totale per mese\n",
    "totale_per_mese = df.groupby(\"Mese\")[\"Quantità\"].sum()\n",
    "# ordina i mesi in ordine cronologico\n",
    "ordine_mesi = [\"Gen\", \"Feb\", \"Mar\", \"Apr\"]\n",
    "totale_per_mese = totale_per_mese.reindex(ordine_mesi)\n",
    "totale_per_mese"
   ]
  },
  {
   "cell_type": "code",
   "execution_count": 38,
   "id": "536d32af",
   "metadata": {},
   "outputs": [
    {
     "data": {
      "image/png": "[encoded data removed]",
      "text/plain": [
       "<Figure size 600x400 with 1 Axes>"
      ]
     },
     "metadata": {},
     "output_type": "display_data"
    }
   ],
   "source": [
    "# crea un plot a linee con i totali per mese\n",
    "totale_per_mese.plot(kind=\"line\", marker=\"o\", figsize=(6, 4))\n",
    "plt.title(\"Totale vendite per mese\")\n",
    "plt.xlabel(\"Mese\")\n",
    "plt.ylabel(\"Unità vendute\")\n",
    "plt.xticks(rotation=0)  # Etichette dell'asse x in orizzontale\n",
    "plt.grid(alpha=0.3)\n",
    "plt.ylim(totale_per_mese.min() *0.7, totale_per_mese.max() * 1.2)  # Aggiunge un margine superiore e inferiore\n",
    "plt.tight_layout()\n",
    "plt.show()"
   ]
  },
  {
   "cell_type": "code",
   "execution_count": 39,
   "id": "9e0faa95",
   "metadata": {},
   "outputs": [
    {
     "data": {
      "text/html": [
       "<div>\n",
       "<style scoped>\n",
       "    .dataframe tbody tr th:only-of-type {\n",
       "        vertical-align: middle;\n",
       "    }\n",
       "\n",
       "    .dataframe tbody tr th {\n",
       "        vertical-align: top;\n",
       "    }\n",
       "\n",
       "    .dataframe thead th {\n",
       "        text-align: right;\n",
       "    }\n",
       "</style>\n",
       "<table border=\"1\" class=\"dataframe\">\n",
       "  <thead>\n",
       "    <tr style=\"text-align: right;\">\n",
       "      <th></th>\n",
       "      <th>Mese</th>\n",
       "      <th>Prodotto</th>\n",
       "      <th>Quantità</th>\n",
       "    </tr>\n",
       "  </thead>\n",
       "  <tbody>\n",
       "    <tr>\n",
       "      <th>1</th>\n",
       "      <td>Feb</td>\n",
       "      <td>A</td>\n",
       "      <td>135</td>\n",
       "    </tr>\n",
       "    <tr>\n",
       "      <th>2</th>\n",
       "      <td>Mar</td>\n",
       "      <td>A</td>\n",
       "      <td>150</td>\n",
       "    </tr>\n",
       "    <tr>\n",
       "      <th>3</th>\n",
       "      <td>Apr</td>\n",
       "      <td>A</td>\n",
       "      <td>145</td>\n",
       "    </tr>\n",
       "    <tr>\n",
       "      <th>8</th>\n",
       "      <td>Gen</td>\n",
       "      <td>C</td>\n",
       "      <td>60</td>\n",
       "    </tr>\n",
       "    <tr>\n",
       "      <th>9</th>\n",
       "      <td>Feb</td>\n",
       "      <td>C</td>\n",
       "      <td>65</td>\n",
       "    </tr>\n",
       "  </tbody>\n",
       "</table>\n",
       "</div>"
      ],
      "text/plain": [
       "  Mese Prodotto  Quantità\n",
       "1  Feb        A       135\n",
       "2  Mar        A       150\n",
       "3  Apr        A       145\n",
       "8  Gen        C        60\n",
       "9  Feb        C        65"
      ]
     },
     "execution_count": 39,
     "metadata": {},
     "output_type": "execute_result"
    }
   ],
   "source": [
    "# Crea un terzo filtro con l’espressione data\n",
    "filtered_data=df[(df[\"Prodotto\"] == \"A\") & (df[\"Quantità\"] > 130) | (df[\"Prodotto\"] == \"C\") & (df[\"Quantità\"] < 70)]\n",
    "filtered_data"
   ]
  },
  {
   "cell_type": "code",
   "execution_count": 40,
   "id": "05224aeb",
   "metadata": {},
   "outputs": [
    {
     "data": {
      "image/png": "[encoded data removed]",
      "text/plain": [
       "<Figure size 1000x400 with 2 Axes>"
      ]
     },
     "metadata": {},
     "output_type": "display_data"
    }
   ],
   "source": [
    "# Sostituisci il line plot del secondo subplot con un scatter plot\n",
    "\n",
    "fig, axes = plt.subplots(1, 2, figsize=(10, 4))\n",
    "\n",
    "# Subplot 1 – Grafico a barre dei totali\n",
    "totali.plot(kind=\"bar\", ax=axes[0])\n",
    "axes[0].set_title(\"Totale vendite per prodotto\")\n",
    "axes[0].set_ylabel(\"Unità vendute\")\n",
    "# Setta le etichette dell'asse x in orizzontale\n",
    "axes[0].set_xlabel(\"Prodotto\")\n",
    "axes[0].set_xticklabels(totali.index, rotation=0)\n",
    "\n",
    "# Subplot 2 – Andamento mensile del prodotto B\n",
    "prod_b = df[df[\"Prodotto\"] == \"B\"]\n",
    "axes[1].scatter(prod_b[\"Mese\"], prod_b[\"Quantità\"])\n",
    "axes[1].set_title(\"Prodotto B – andamento gennaio‑aprile\")\n",
    "axes[1].set_ylabel(\"Unità vendute\")\n",
    "axes[1].set_xlabel(\"Mese\")\n",
    "\n",
    "plt.tight_layout()\n",
    "plt.show()"
   ]
  },
  {
   "cell_type": "markdown",
   "id": "c1d5ade1",
   "metadata": {},
   "source": [
    "# Aggiunta personale\n",
    "Fai un plot con l'andamento delle vendite nei mesi per ogni prodotto"
   ]
  },
  {
   "cell_type": "code",
   "execution_count": 48,
   "id": "ee0f8e7c",
   "metadata": {},
   "outputs": [
    {
     "data": {
      "image/png": "[encoded data removed]",
      "text/plain": [
       "<Figure size 800x500 with 1 Axes>"
      ]
     },
     "metadata": {},
     "output_type": "display_data"
    }
   ],
   "source": [
    "# plot con l'andamento delle vendite nei mesi per ogni prodotto\n",
    "# riordina i dati in base al mese\n",
    "df[\"Mese\"] = pd.Categorical(df[\"Mese\"], categories=[\"Gen\", \"Feb\", \"Mar\", \"Apr\"], ordered=True)\n",
    "df.sort_values(by=[\"Mese\", \"Prodotto\"], inplace=True)\n",
    "\n",
    "# plot con l'andamento delle vendite nei mesi per ogni prodotto\n",
    "plt.figure(figsize=(8, 5))\n",
    "for prodotto in df[\"Prodotto\"].unique():\n",
    "    subset = df[df[\"Prodotto\"] == prodotto]\n",
    "    plt.plot(subset[\"Mese\"], subset[\"Quantità\"], marker=\"o\", label=prodotto)\n",
    "\n",
    "plt.title(\"Andamento vendite per prodotto\")\n",
    "plt.xlabel(\"Mese\")\n",
    "plt.ylabel(\"Unità vendute\")\n",
    "plt.xticks(rotation=0)  # Etichette dell'asse x in orizzontale\n",
    "plt.legend(title=\"Prodotto\")\n",
    "plt.grid(alpha=0.3)\n",
    "plt.ylim(df[\"Quantità\"].min() * 0.6, df[\"Quantità\"].max() * 1.2)  # Aggiunge un margine superiore\n",
    "plt.tight_layout()\n",
    "plt.show()\n",
    "\n"
   ]
  },
  {
   "cell_type": "markdown",
   "id": "3642c871",
   "metadata": {},
   "source": [
    "L'andamento totale delle vendite ha avuto una flessione a causa del prodotto A"
   ]
  },
  {
   "cell_type": "code",
   "execution_count": null,
   "id": "ace772eb",
   "metadata": {},
   "outputs": [],
   "source": []
  }
 ],
 "metadata": {
  "kernelspec": {
   "display_name": ".venv",
   "language": "python",
   "name": "python3"
  },
  "language_info": {
   "codemirror_mode": {
    "name": "ipython",
    "version": 3
   },
   "file_extension": ".py",
   "mimetype": "text/x-python",
   "name": "python",
   "nbconvert_exporter": "python",
   "pygments_lexer": "ipython3",
   "version": "3.13.5"
  }
 },
 "nbformat": 4,
 "nbformat_minor": 5
}
