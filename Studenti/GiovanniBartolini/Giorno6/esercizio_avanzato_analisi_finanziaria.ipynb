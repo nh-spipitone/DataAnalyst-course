{
 "cells": [
  {
   "cell_type": "code",
   "execution_count": 3,
   "id": "b1e4fb77",
   "metadata": {},
   "outputs": [
    {
     "data": {
      "text/html": [
       "<div>\n",
       "<style scoped>\n",
       "    .dataframe tbody tr th:only-of-type {\n",
       "        vertical-align: middle;\n",
       "    }\n",
       "\n",
       "    .dataframe tbody tr th {\n",
       "        vertical-align: top;\n",
       "    }\n",
       "\n",
       "    .dataframe thead th {\n",
       "        text-align: right;\n",
       "    }\n",
       "</style>\n",
       "<table border=\"1\" class=\"dataframe\">\n",
       "  <thead>\n",
       "    <tr style=\"text-align: right;\">\n",
       "      <th></th>\n",
       "      <th>Data</th>\n",
       "      <th>Prezzo_A</th>\n",
       "      <th>Prezzo_B</th>\n",
       "    </tr>\n",
       "  </thead>\n",
       "  <tbody>\n",
       "    <tr>\n",
       "      <th>0</th>\n",
       "      <td>2022-01-01</td>\n",
       "      <td>202.483571</td>\n",
       "      <td>295.753888</td>\n",
       "    </tr>\n",
       "    <tr>\n",
       "      <th>1</th>\n",
       "      <td>2022-01-02</td>\n",
       "      <td>301.792249</td>\n",
       "      <td>444.491952</td>\n",
       "    </tr>\n",
       "    <tr>\n",
       "      <th>2</th>\n",
       "      <td>2022-01-03</td>\n",
       "      <td>405.030692</td>\n",
       "      <td>593.463808</td>\n",
       "    </tr>\n",
       "    <tr>\n",
       "      <th>3</th>\n",
       "      <td>2022-01-04</td>\n",
       "      <td>512.645841</td>\n",
       "      <td>741.056976</td>\n",
       "    </tr>\n",
       "    <tr>\n",
       "      <th>4</th>\n",
       "      <td>2022-01-05</td>\n",
       "      <td>611.475074</td>\n",
       "      <td>890.573119</td>\n",
       "    </tr>\n",
       "  </tbody>\n",
       "</table>\n",
       "</div>"
      ],
      "text/plain": [
       "        Data    Prezzo_A    Prezzo_B\n",
       "0 2022-01-01  202.483571  295.753888\n",
       "1 2022-01-02  301.792249  444.491952\n",
       "2 2022-01-03  405.030692  593.463808\n",
       "3 2022-01-04  512.645841  741.056976\n",
       "4 2022-01-05  611.475074  890.573119"
      ]
     },
     "execution_count": 3,
     "metadata": {},
     "output_type": "execute_result"
    }
   ],
   "source": [
    "import pandas as pd\n",
    "import matplotlib.pyplot as plt\n",
    "import numpy as np\n",
    "\n",
    "# Simulazione dati finanziari\n",
    "np.random.seed(42)\n",
    "date_range = pd.date_range(start='2022-01-01', periods=100, freq='D')\n",
    "azioni = pd.DataFrame({\n",
    "'Data': date_range,\n",
    "'Prezzo_A': np.random.normal(100, 5, 100).cumsum() + 100,\n",
    "'Prezzo_B': np.random.normal(150, 3, 100).cumsum() + 150\n",
    "})\n",
    "\n",
    "azioni.head()"
   ]
  },
  {
   "cell_type": "code",
   "execution_count": 4,
   "id": "d9db9131",
   "metadata": {},
   "outputs": [
    {
     "data": {
      "text/html": [
       "<div>\n",
       "<style scoped>\n",
       "    .dataframe tbody tr th:only-of-type {\n",
       "        vertical-align: middle;\n",
       "    }\n",
       "\n",
       "    .dataframe tbody tr th {\n",
       "        vertical-align: top;\n",
       "    }\n",
       "\n",
       "    .dataframe thead th {\n",
       "        text-align: right;\n",
       "    }\n",
       "</style>\n",
       "<table border=\"1\" class=\"dataframe\">\n",
       "  <thead>\n",
       "    <tr style=\"text-align: right;\">\n",
       "      <th></th>\n",
       "      <th>Data</th>\n",
       "      <th>Prezzo_A</th>\n",
       "      <th>Prezzo_B</th>\n",
       "      <th>Rendimento_A</th>\n",
       "      <th>Rendimento_B</th>\n",
       "    </tr>\n",
       "  </thead>\n",
       "  <tbody>\n",
       "    <tr>\n",
       "      <th>0</th>\n",
       "      <td>2022-01-01</td>\n",
       "      <td>202.483571</td>\n",
       "      <td>295.753888</td>\n",
       "      <td>NaN</td>\n",
       "      <td>NaN</td>\n",
       "    </tr>\n",
       "    <tr>\n",
       "      <th>1</th>\n",
       "      <td>2022-01-02</td>\n",
       "      <td>301.792249</td>\n",
       "      <td>444.491952</td>\n",
       "      <td>49.045302</td>\n",
       "      <td>50.291161</td>\n",
       "    </tr>\n",
       "    <tr>\n",
       "      <th>2</th>\n",
       "      <td>2022-01-03</td>\n",
       "      <td>405.030692</td>\n",
       "      <td>593.463808</td>\n",
       "      <td>34.208447</td>\n",
       "      <td>33.515085</td>\n",
       "    </tr>\n",
       "    <tr>\n",
       "      <th>3</th>\n",
       "      <td>2022-01-04</td>\n",
       "      <td>512.645841</td>\n",
       "      <td>741.056976</td>\n",
       "      <td>26.569628</td>\n",
       "      <td>24.869784</td>\n",
       "    </tr>\n",
       "    <tr>\n",
       "      <th>4</th>\n",
       "      <td>2022-01-05</td>\n",
       "      <td>611.475074</td>\n",
       "      <td>890.573119</td>\n",
       "      <td>19.278267</td>\n",
       "      <td>20.176066</td>\n",
       "    </tr>\n",
       "  </tbody>\n",
       "</table>\n",
       "</div>"
      ],
      "text/plain": [
       "        Data    Prezzo_A    Prezzo_B  Rendimento_A  Rendimento_B\n",
       "0 2022-01-01  202.483571  295.753888           NaN           NaN\n",
       "1 2022-01-02  301.792249  444.491952     49.045302     50.291161\n",
       "2 2022-01-03  405.030692  593.463808     34.208447     33.515085\n",
       "3 2022-01-04  512.645841  741.056976     26.569628     24.869784\n",
       "4 2022-01-05  611.475074  890.573119     19.278267     20.176066"
      ]
     },
     "execution_count": 4,
     "metadata": {},
     "output_type": "execute_result"
    }
   ],
   "source": [
    "# Calcolo rendimento percentuale\n",
    "azioni['Rendimento_A'] = azioni['Prezzo_A'].pct_change() * 100\n",
    "azioni['Rendimento_B'] = azioni['Prezzo_B'].pct_change() * 100\n",
    "\n",
    "azioni.head()"
   ]
  },
  {
   "cell_type": "code",
   "execution_count": 5,
   "id": "a56d83a2",
   "metadata": {},
   "outputs": [
    {
     "data": {
      "text/html": [
       "<div>\n",
       "<style scoped>\n",
       "    .dataframe tbody tr th:only-of-type {\n",
       "        vertical-align: middle;\n",
       "    }\n",
       "\n",
       "    .dataframe tbody tr th {\n",
       "        vertical-align: top;\n",
       "    }\n",
       "\n",
       "    .dataframe thead th {\n",
       "        text-align: right;\n",
       "    }\n",
       "</style>\n",
       "<table border=\"1\" class=\"dataframe\">\n",
       "  <thead>\n",
       "    <tr style=\"text-align: right;\">\n",
       "      <th></th>\n",
       "      <th>Rendimento_A</th>\n",
       "      <th>Rendimento_B</th>\n",
       "    </tr>\n",
       "  </thead>\n",
       "  <tbody>\n",
       "    <tr>\n",
       "      <th>Rendimento_A</th>\n",
       "      <td>1.000000</td>\n",
       "      <td>0.998951</td>\n",
       "    </tr>\n",
       "    <tr>\n",
       "      <th>Rendimento_B</th>\n",
       "      <td>0.998951</td>\n",
       "      <td>1.000000</td>\n",
       "    </tr>\n",
       "  </tbody>\n",
       "</table>\n",
       "</div>"
      ],
      "text/plain": [
       "              Rendimento_A  Rendimento_B\n",
       "Rendimento_A      1.000000      0.998951\n",
       "Rendimento_B      0.998951      1.000000"
      ]
     },
     "execution_count": 5,
     "metadata": {},
     "output_type": "execute_result"
    }
   ],
   "source": [
    "# Analisi correlazione\n",
    "corr = azioni[['Rendimento_A', 'Rendimento_B']].corr()\n",
    "corr"
   ]
  },
  {
   "cell_type": "code",
   "execution_count": 7,
   "id": "454e7245",
   "metadata": {},
   "outputs": [
    {
     "data": {
      "text/plain": [
       "<Axes: title={'center': 'Andamento Prezzi Azioni'}, xlabel='Data'>"
      ]
     },
     "execution_count": 7,
     "metadata": {},
     "output_type": "execute_result"
    },
    {
     "data": {
      "image/png": "[encoded data removed]",
      "text/plain": [
       "<Figure size 600x400 with 1 Axes>"
      ]
     },
     "metadata": {},
     "output_type": "display_data"
    }
   ],
   "source": [
    "# Visualizzazione andamento prezzi\n",
    "azioni.plot(x='Data', y=['Prezzo_A', 'Prezzo_B'], figsize=(6, 4), title='Andamento Prezzi Azioni')"
   ]
  },
  {
   "cell_type": "code",
   "execution_count": null,
   "id": "370268e0",
   "metadata": {},
   "outputs": [],
   "source": []
  }
 ],
 "metadata": {
  "kernelspec": {
   "display_name": ".venv",
   "language": "python",
   "name": "python3"
  },
  "language_info": {
   "codemirror_mode": {
    "name": "ipython",
    "version": 3
   },
   "file_extension": ".py",
   "mimetype": "text/x-python",
   "name": "python",
   "nbconvert_exporter": "python",
   "pygments_lexer": "ipython3",
   "version": "3.13.5"
  }
 },
 "nbformat": 4,
 "nbformat_minor": 5
}
