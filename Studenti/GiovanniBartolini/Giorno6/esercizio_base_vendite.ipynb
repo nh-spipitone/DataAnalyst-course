{
 "cells": [
  {
   "cell_type": "code",
   "execution_count": 1,
   "id": "2ce8b222",
   "metadata": {},
   "outputs": [
    {
     "data": {
      "text/html": [
       "<div>\n",
       "<style scoped>\n",
       "    .dataframe tbody tr th:only-of-type {\n",
       "        vertical-align: middle;\n",
       "    }\n",
       "\n",
       "    .dataframe tbody tr th {\n",
       "        vertical-align: top;\n",
       "    }\n",
       "\n",
       "    .dataframe thead th {\n",
       "        text-align: right;\n",
       "    }\n",
       "</style>\n",
       "<table border=\"1\" class=\"dataframe\">\n",
       "  <thead>\n",
       "    <tr style=\"text-align: right;\">\n",
       "      <th></th>\n",
       "      <th>Prodotto</th>\n",
       "      <th>Mese</th>\n",
       "      <th>Quantità</th>\n",
       "    </tr>\n",
       "  </thead>\n",
       "  <tbody>\n",
       "    <tr>\n",
       "      <th>0</th>\n",
       "      <td>A</td>\n",
       "      <td>Gen</td>\n",
       "      <td>10</td>\n",
       "    </tr>\n",
       "    <tr>\n",
       "      <th>1</th>\n",
       "      <td>B</td>\n",
       "      <td>Gen</td>\n",
       "      <td>15</td>\n",
       "    </tr>\n",
       "    <tr>\n",
       "      <th>2</th>\n",
       "      <td>C</td>\n",
       "      <td>Gen</td>\n",
       "      <td>8</td>\n",
       "    </tr>\n",
       "    <tr>\n",
       "      <th>3</th>\n",
       "      <td>A</td>\n",
       "      <td>Feb</td>\n",
       "      <td>12</td>\n",
       "    </tr>\n",
       "    <tr>\n",
       "      <th>4</th>\n",
       "      <td>B</td>\n",
       "      <td>Feb</td>\n",
       "      <td>9</td>\n",
       "    </tr>\n",
       "    <tr>\n",
       "      <th>5</th>\n",
       "      <td>C</td>\n",
       "      <td>Feb</td>\n",
       "      <td>11</td>\n",
       "    </tr>\n",
       "  </tbody>\n",
       "</table>\n",
       "</div>"
      ],
      "text/plain": [
       "  Prodotto Mese  Quantità\n",
       "0        A  Gen        10\n",
       "1        B  Gen        15\n",
       "2        C  Gen         8\n",
       "3        A  Feb        12\n",
       "4        B  Feb         9\n",
       "5        C  Feb        11"
      ]
     },
     "execution_count": 1,
     "metadata": {},
     "output_type": "execute_result"
    }
   ],
   "source": [
    "import pandas as pd \n",
    "import matplotlib.pyplot as plt \n",
    "\n",
    "# Caricamento dati\n",
    "vendite = pd.DataFrame({\n",
    "'Prodotto': ['A', 'B', 'C', 'A', 'B', 'C'], \n",
    "'Mese': ['Gen', 'Gen', 'Gen', 'Feb', 'Feb', 'Feb'], \n",
    "'Quantità': [10, 15, 8, 12, 9, 11] \n",
    "})\n",
    "vendite"
   ]
  },
  {
   "cell_type": "code",
   "execution_count": 2,
   "id": "97a4a314",
   "metadata": {},
   "outputs": [
    {
     "name": "stdout",
     "output_type": "stream",
     "text": [
      "Prodotto\n",
      "A    22\n",
      "B    24\n",
      "C    19\n",
      "Name: Quantità, dtype: int64\n"
     ]
    }
   ],
   "source": [
    "# Analisi: vendite totali per prodotto\n",
    "totale_prodotti = vendite.groupby('Prodotto')['Quantità'].sum()\n",
    "print(totale_prodotti)"
   ]
  },
  {
   "cell_type": "code",
   "execution_count": 3,
   "id": "1c53f0d3",
   "metadata": {},
   "outputs": [
    {
     "data": {
      "image/png": "[encoded data removed]",
      "text/plain": [
       "<Figure size 640x480 with 1 Axes>"
      ]
     },
     "metadata": {},
     "output_type": "display_data"
    }
   ],
   "source": [
    "# Visualizzazione \n",
    "totale_prodotti.plot(kind='bar', color='skyblue') \n",
    "plt.title('Vendite Totali per Prodotto') \n",
    "plt.ylabel('Unità Vendute')\n",
    "plt.show()"
   ]
  },
  {
   "cell_type": "code",
   "execution_count": null,
   "id": "5d62c7df",
   "metadata": {},
   "outputs": [],
   "source": []
  }
 ],
 "metadata": {
  "kernelspec": {
   "display_name": ".venv",
   "language": "python",
   "name": "python3"
  },
  "language_info": {
   "codemirror_mode": {
    "name": "ipython",
    "version": 3
   },
   "file_extension": ".py",
   "mimetype": "text/x-python",
   "name": "python",
   "nbconvert_exporter": "python",
   "pygments_lexer": "ipython3",
   "version": "3.13.5"
  }
 },
 "nbformat": 4,
 "nbformat_minor": 5
}
