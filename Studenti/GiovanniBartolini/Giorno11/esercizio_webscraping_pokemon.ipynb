{
 "cells": [
  {
   "cell_type": "code",
   "execution_count": 41,
   "id": "b7badc9f",
   "metadata": {},
   "outputs": [],
   "source": [
    "import time\n",
    "from selenium import webdriver\n",
    "from selenium.webdriver.common.by import By\n",
    "from selenium.webdriver.support.ui import WebDriverWait\n",
    "from selenium.webdriver.support import expected_conditions as EC\n",
    "from selenium.webdriver.chrome.options import Options\n",
    "\n",
    "# Configura le opzioni del browser\n",
    "chrome_options = Options()\n",
    "#chrome_options.add_argument(\"--headless=new\")  # Esegui in modalità headless (senza GUI)\n",
    "\n",
    "# iniziazza il driver di Selenium\n",
    "driver = webdriver.Chrome(options=chrome_options)\n",
    "driver.get(\"https://wiki.pokemoncentral.it/Elenco_dei_Pok%C3%A9mon_secondo_il_Pok%C3%A9dex_Nazionale\")\n",
    "\n"
   ]
  },
  {
   "cell_type": "code",
   "execution_count": 10,
   "id": "fa1da91e",
   "metadata": {},
   "outputs": [
    {
     "name": "stdout",
     "output_type": "stream",
     "text": [
      "Errore durante il rifiuto dei cookie: Message: \n",
      "Stacktrace:\n",
      "#0 0x560e6765e23a <unknown>\n",
      "#1 0x560e67108ab0 <unknown>\n",
      "#2 0x560e6715a6f0 <unknown>\n",
      "#3 0x560e6715a8e1 <unknown>\n",
      "#4 0x560e671a8b94 <unknown>\n",
      "#5 0x560e671801cd <unknown>\n",
      "#6 0x560e671a5fee <unknown>\n",
      "#7 0x560e6717ff73 <unknown>\n",
      "#8 0x560e6714caeb <unknown>\n",
      "#9 0x560e6714d751 <unknown>\n",
      "#10 0x560e67622b4b <unknown>\n",
      "#11 0x560e67626929 <unknown>\n",
      "#12 0x560e67609929 <unknown>\n",
      "#13 0x560e676274e8 <unknown>\n",
      "#14 0x560e675ee0df <unknown>\n",
      "#15 0x560e6764b8e8 <unknown>\n",
      "#16 0x560e6764bac6 <unknown>\n",
      "#17 0x560e6765d556 <unknown>\n",
      "#18 0x7fec5c82a609 start_thread\n",
      "\n"
     ]
    }
   ],
   "source": [
    "try:\n",
    "    reject_cookies_button = WebDriverWait(driver, 5).until(\n",
    "        EC.element_to_be_clickable((By.XPATH, '//*[@id=\"notice\"]/div[3]/button[3]'))\n",
    "    )\n",
    "    reject_cookies_button.click()\n",
    "except Exception as e:\n",
    "    print(f\"Errore durante il rifiuto dei cookie: {e}\")"
   ]
  },
  {
   "cell_type": "code",
   "execution_count": 42,
   "id": "1c4aa239",
   "metadata": {},
   "outputs": [
    {
     "name": "stdout",
     "output_type": "stream",
     "text": [
      "Elenco dei Pokémon secondo il Pokédex Nazionale\n"
     ]
    }
   ],
   "source": [
    "titolo = driver.find_element(By.XPATH, '/html/body/div[3]/div[3]/div[5]/div[2]/h2/span[2]')\n",
    "print(titolo.text)"
   ]
  },
  {
   "cell_type": "code",
   "execution_count": 43,
   "id": "226c3daa",
   "metadata": {},
   "outputs": [
    {
     "name": "stdout",
     "output_type": "stream",
     "text": [
      "Prima generazione\n"
     ]
    }
   ],
   "source": [
    "prima_generazione = driver.find_element(By.XPATH, '/html/body/div[3]/div[3]/div[5]/div[2]/h3[1]/span')\n",
    "print(prima_generazione.text)"
   ]
  },
  {
   "cell_type": "code",
   "execution_count": 45,
   "id": "c8524ccf",
   "metadata": {},
   "outputs": [
    {
     "name": "stdout",
     "output_type": "stream",
     "text": [
      "#0001\n",
      "Bulbasaur\n",
      "Erba\n",
      "Veleno\n",
      "Numero di Pokémon nella prima generazione: 230\n"
     ]
    }
   ],
   "source": [
    "pokemon_prima_generazione = driver.find_element(By.XPATH, '//*[@id=\"mw-content-text\"]/div[2]/div[3]')\n",
    "lista_pokemon_prima_generazione = []\n",
    "pokemon_divs = pokemon_prima_generazione.find_elements(By.XPATH, \".//div[contains(@class, 'width-xl-33')]\")\n",
    "print(pokemon_divs[0].text)  # Stampa il primo Pokémon per verifica\n",
    "for pokemon in pokemon_divs:\n",
    "    #print(pokemon.text)\n",
    "    lista_pokemon_prima_generazione.append(pokemon.text)\n",
    "print(f\"Numero di Pokémon nella prima generazione: {len(lista_pokemon_prima_generazione)}\")"
   ]
  },
  {
   "cell_type": "code",
   "execution_count": null,
   "id": "7193882f",
   "metadata": {},
   "outputs": [],
   "source": [
    "#driver.close()  # Chiude il browser"
   ]
  },
  {
   "cell_type": "code",
   "execution_count": null,
   "id": "fb50308b",
   "metadata": {},
   "outputs": [],
   "source": []
  }
 ],
 "metadata": {
  "kernelspec": {
   "display_name": ".venv",
   "language": "python",
   "name": "python3"
  },
  "language_info": {
   "codemirror_mode": {
    "name": "ipython",
    "version": 3
   },
   "file_extension": ".py",
   "mimetype": "text/x-python",
   "name": "python",
   "nbconvert_exporter": "python",
   "pygments_lexer": "ipython3",
   "version": "3.13.5"
  }
 },
 "nbformat": 4,
 "nbformat_minor": 5
}
