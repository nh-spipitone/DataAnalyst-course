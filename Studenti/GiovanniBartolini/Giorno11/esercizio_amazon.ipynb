{
 "cells": [
  {
   "cell_type": "code",
   "execution_count": null,
   "id": "49248f4e",
   "metadata": {},
   "outputs": [],
   "source": [
    "import time\n",
    "from selenium import webdriver\n",
    "from selenium.webdriver.common.by import By\n",
    "from selenium.webdriver.support.ui import WebDriverWait\n",
    "from selenium.webdriver.support import expected_conditions as EC\n",
    "from selenium.webdriver.chrome.options import Options\n",
    "\n",
    "# Configura le opzioni del browser\n",
    "chrome_options = Options()\n",
    "#chrome_options.add_argument(\"--headless=new\")  # Esegui in modalità headless (senza GUI)\n",
    "\n",
    "# iniziazza il driver di Selenium\n",
    "driver = webdriver.Chrome(options=chrome_options)\n",
    "driver.get(\"https://www.amazon.it/\")\n",
    "\n",
    "try:\n",
    "    reject_cookies_button = WebDriverWait(driver, 5).until(\n",
    "        EC.element_to_be_clickable((By.XPATH, '//*[@id=\"sp-cc-rejectall-link\"]'))\n",
    "    )\n",
    "    reject_cookies_button.click()\n",
    "except Exception as e:\n",
    "    print(f\"Errore durante il rifiuto dei cookie: {e}\")"
   ]
  },
  {
   "cell_type": "code",
   "execution_count": null,
   "id": "ada44741",
   "metadata": {},
   "outputs": [],
   "source": []
  }
 ],
 "metadata": {
  "kernelspec": {
   "display_name": ".venv",
   "language": "python",
   "name": "python3"
  },
  "language_info": {
   "codemirror_mode": {
    "name": "ipython",
    "version": 3
   },
   "file_extension": ".py",
   "mimetype": "text/x-python",
   "name": "python",
   "nbconvert_exporter": "python",
   "pygments_lexer": "ipython3",
   "version": "3.13.5"
  }
 },
 "nbformat": 4,
 "nbformat_minor": 5
}
