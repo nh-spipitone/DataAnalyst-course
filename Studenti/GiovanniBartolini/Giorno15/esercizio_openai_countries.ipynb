{
 "cells": [
  {
   "cell_type": "code",
   "execution_count": 1,
   "id": "4a55977f",
   "metadata": {},
   "outputs": [],
   "source": [
    "import json  # Importa il modulo json per lavorare con dati in formato JSON\n",
    "import requests  # Importa il modulo requests per effettuare richieste HTTP\n",
    "from openai import OpenAI  # Importa la classe OpenAI dal pacchetto openai\n",
    "from dotenv import (\n",
    "    load_dotenv,\n",
    ")  # Importa la funzione load_dotenv per caricare variabili d'ambiente da un file .env\n",
    "import os  # Importa il modulo os per interagire con il sistema operativo\n",
    "\n",
    "# Carica le variabili d'ambiente definite nel file .env\n",
    "load_dotenv()\n",
    "\n",
    "# Recupera la chiave API di OpenAI dalla variabile d'ambiente\n",
    "OPENAI_API_KEY = os.getenv(\"OPENAI_API_KEY\")\n",
    "\n",
    "# Crea un'istanza del client OpenAI usando la chiave API\n",
    "client = OpenAI(api_key=OPENAI_API_KEY)"
   ]
  },
  {
   "cell_type": "code",
   "execution_count": null,
   "id": "b958af24",
   "metadata": {},
   "outputs": [],
   "source": [
    "def get_country_info(country_name: str):\n",
    "    \"\"\"\n",
    "    Recupera informazioni su un paese specifico utilizzando l'API di OpenAI.\n",
    "    \n",
    "    Args:\n",
    "        country_name (str): Il nome del paese di cui si vogliono ottenere informazioni.\n",
    "    \n",
    "    Returns:\n",
    "        dict: Un dizionario contenente le informazioni sul paese: capitale, popolazione, regione geografica (es. Europa, Asia, etc.)\n",
    "    \"\"\"\n",
    "\n",
    "    response = requests.get(\n",
    "        f\"https://restcountries.com/v3.1/name/{country_name}\"\n",
    "    )  # Effettua una richiesta GET all'API REST\n",
    "    data = response.json()  # Converte la risposta in formato JSON\n",
    "    # print(data[0].keys())  # Stampa i dati ricevuti per debug\n",
    "    # print(data[0][\"capital\"][0])  # Stampa la capitale del paese per debug\n",
    "    # print(data[0][\"population\"])  # Stampa la popolazione del paese per debug\n",
    "    # print(data[0][\"region\"])  # Stampa la regione del paese per debug\n",
    "    #return data  # Restituisce il primo elemento della lista di paesi trovati\n",
    "    return {\"country\": country_name, \"capital\": data[0][\"capital\"][0], \"population\": data[0][\"population\"], \"region\": data[0][\"region\"]}  # Restituisce un dizionario con le informazioni del paese"
   ]
  },
  {
   "cell_type": "code",
   "execution_count": 28,
   "id": "d17e56f9",
   "metadata": {},
   "outputs": [
    {
     "name": "stdout",
     "output_type": "stream",
     "text": [
      "{\n",
      "  \"country\": \"ITALY\",\n",
      "  \"capital\": \"Rome\",\n",
      "  \"population\": 59554023,\n",
      "  \"region\": \"Europe\"\n",
      "}\n"
     ]
    }
   ],
   "source": [
    "# Esempio di utilizzo della funzione get_country_info\n",
    "country_name = \"ITALY\"  # Nome del paese da cercare\n",
    "country_info = get_country_info(country_name)  # Chiama la funzione per ottenere le informazioni sul paese\n",
    "print(json.dumps(country_info, indent=2))  # Stampa le informazioni del paese in formato JSON con indentazione per una migliore leggibilità"
   ]
  },
  {
   "cell_type": "code",
   "execution_count": 26,
   "id": "d02da331",
   "metadata": {},
   "outputs": [],
   "source": [
    "tools = [\n",
    "    {\n",
    "        \"type\": \"function\",\n",
    "        \"function\": {\n",
    "            \"name\": \"get_country_info\",\n",
    "            \"description\": \"Recupera informazioni su un paese specifico.\",\n",
    "            \"parameters\": {\n",
    "                \"type\": \"object\",\n",
    "                \"properties\": {\n",
    "                    \"country_name\": {\n",
    "                        \"type\": \"string\",\n",
    "                        \"description\": \"Il nome del paese di cui si vogliono ottenere informazioni.\"\n",
    "                    }\n",
    "                },\n",
    "                \"required\": [\"country_name\"],\n",
    "                \"additionalProperties\": False,  # Non sono ammessi parametri aggiuntivi\n",
    "            },\n",
    "            \"strict\": True,  # Parametri devono essere rispettati rigorosamente\n",
    "        }\n",
    "    }\n",
    "]  # Definisce gli strumenti disponibili per l'API OpenAI, in questo caso la funzione get_country_info"
   ]
  },
  {
   "cell_type": "code",
   "execution_count": 29,
   "id": "152af264",
   "metadata": {},
   "outputs": [],
   "source": [
    "def function_calling(tool_calls):\n",
    "    for tool_call in tool_calls:  # Itera su tutte le chiamate agli strumenti\n",
    "        if (tool_call.function.name == \"get_country_info\"):\n",
    "            args = json.loads(tool_call.function.arguments)  # Decodifica gli argomenti JSON\n",
    "            info = get_country_info(args[\"country_name\"])  # Ottiene le informazioni sul paese\n",
    "            return f\"The requested info are:\\n\" + json.dumps(info, indent=2)  # Restituisce le informazioni in formato JSON con indentazione\n",
    "        else:\n",
    "            return \"Unknown tool call\"  # Gestisce chiamate a strumenti sconosciuti  "
   ]
  },
  {
   "cell_type": "code",
   "execution_count": 36,
   "id": "98f15f21",
   "metadata": {},
   "outputs": [
    {
     "name": "stdout",
     "output_type": "stream",
     "text": [
      "The requested info are:\n",
      "{\n",
      "  \"country\": \"Canada\",\n",
      "  \"capital\": \"Ottawa\",\n",
      "  \"population\": 38005238,\n",
      "  \"region\": \"Americas\"\n",
      "}\n"
     ]
    }
   ],
   "source": [
    "response = client.chat.completions.create(\n",
    "    model=\"gpt-4.1\",\n",
    "    messages=[\n",
    "        {\n",
    "            \"role\": \"system\",\n",
    "            \"content\": \"You are a helpful assistant that provides information about countries.\",\n",
    "        },\n",
    "        {\n",
    "            \"role\": \"user\",\n",
    "            \"content\": f\"Tell me about Canada.\",\n",
    "        },\n",
    "    ],\n",
    "    tools=tools,\n",
    "    tool_choice=\"auto\",  # Permette al modello di scegliere automaticamente se usare gli strumenti\n",
    "    temperature=0.7,  # Imposta la temperatura per la generazione della risposta\n",
    ")\n",
    "\n",
    "# Estrae il testo della risposta dal completamento\n",
    "if response.choices[0].message.tool_calls:\n",
    "    # Se ci sono chiamate agli strumenti, chiama la funzione function_calling per gestirle\n",
    "    print(function_calling(response.choices[0].message.tool_calls))\n",
    "else:\n",
    "    # Altrimenti, restituisce il contenuto della risposta come stringa\n",
    "    print(response.choices[0].message.content.strip())\n"
   ]
  },
  {
   "cell_type": "code",
   "execution_count": null,
   "id": "2732cb1a",
   "metadata": {},
   "outputs": [],
   "source": []
  }
 ],
 "metadata": {
  "kernelspec": {
   "display_name": ".venv",
   "language": "python",
   "name": "python3"
  },
  "language_info": {
   "codemirror_mode": {
    "name": "ipython",
    "version": 3
   },
   "file_extension": ".py",
   "mimetype": "text/x-python",
   "name": "python",
   "nbconvert_exporter": "python",
   "pygments_lexer": "ipython3",
   "version": "3.13.5"
  }
 },
 "nbformat": 4,
 "nbformat_minor": 5
}
