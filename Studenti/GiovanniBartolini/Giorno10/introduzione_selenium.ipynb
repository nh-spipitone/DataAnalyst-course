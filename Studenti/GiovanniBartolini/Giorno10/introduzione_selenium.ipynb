{
 "cells": [
  {
   "cell_type": "code",
   "execution_count": null,
   "id": "77cbcc44",
   "metadata": {},
   "outputs": [],
   "source": [
    "import time\n",
    "from selenium import webdriver\n",
    "from selenium.webdriver.common.by import By\n",
    "from selenium.webdriver.support.ui import WebDriverWait\n",
    "from selenium.webdriver.support import expected_conditions as EC\n",
    "from selenium.webdriver.chrome.options import Options\n",
    "\n",
    "# Configura le opzioni del browser\n",
    "chrome_options = Options()\n",
    "#chrome_options.add_argument(\"--headless=new\")  # Esegui in modalità headless (senza GUI)\n",
    "\n",
    "# iniziazza il driver di Selenium\n",
    "driver = webdriver.Chrome(options=chrome_options)\n",
    "driver.get(\"https://www.amazon.it/\")\n",
    "\n",
    "time.sleep(2)  # Attendi che la pagina si carichi completamente\n",
    "reject_cookies_button = WebDriverWait(driver, 5).until(\n",
    "    EC.element_to_be_clickable((By.XPATH, '//*[@id=\"sp-cc-rejectall-link\"]'))\n",
    ")\n",
    "reject_cookies_button.click()"
   ]
  },
  {
   "cell_type": "code",
   "execution_count": 30,
   "id": "0169d1aa",
   "metadata": {},
   "outputs": [
    {
     "name": "stdout",
     "output_type": "stream",
     "text": [
      "<html lang=\"it-it\" class=\" a-js a-audio a-video a-canvas a-svg a-drag-drop a-geolocation a-history a-webworker a-autofocus a-input-placeholder a-textarea-placeholder a-local-storage a-gradients a-transform3d a-touch-scrolling a-text-shadow a-text-stroke a-box-shadow a-border-radius a-border-image a-opacity a-transform a-transition null\" data-19ax5a9jf=\"dingo\" data-aui-build-date=\"3.25.4-2025-06-19\" data-useragent=\"Mozilla/5.0 (X11; Linux x86_64) AppleWebKit/537.36 (KHTML, like Gecko) HeadlessChr\n"
     ]
    }
   ],
   "source": [
    "print(driver.page_source[:500])  # Stampa i primi 500 caratteri del codice sorgente della pagina"
   ]
  },
  {
   "cell_type": "code",
   "execution_count": 31,
   "id": "a95dfe91",
   "metadata": {},
   "outputs": [
    {
     "name": "stdout",
     "output_type": "stream",
     "text": [
      "Prime Day per categoria\n"
     ]
    }
   ],
   "source": [
    "testo_prova = driver.find_element(By.XPATH, '/html/body/div[1]/div[1]/div[2]/div[1]/div[2]/div/div/h2')\n",
    "print(testo_prova.text)  # Stampa il testo dell'elemento trovato"
   ]
  },
  {
   "cell_type": "code",
   "execution_count": 32,
   "id": "fb4b3160",
   "metadata": {},
   "outputs": [],
   "source": [
    "driver.quit()  # Chiude il browser"
   ]
  },
  {
   "cell_type": "code",
   "execution_count": null,
   "id": "bae59bc7",
   "metadata": {},
   "outputs": [],
   "source": []
  }
 ],
 "metadata": {
  "kernelspec": {
   "display_name": ".venv",
   "language": "python",
   "name": "python3"
  },
  "language_info": {
   "codemirror_mode": {
    "name": "ipython",
    "version": 3
   },
   "file_extension": ".py",
   "mimetype": "text/x-python",
   "name": "python",
   "nbconvert_exporter": "python",
   "pygments_lexer": "ipython3",
   "version": "3.13.5"
  }
 },
 "nbformat": 4,
 "nbformat_minor": 5
}
