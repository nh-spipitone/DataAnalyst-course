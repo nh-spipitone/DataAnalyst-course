{
 "cells": [
  {
   "cell_type": "markdown",
   "id": "11396a1e",
   "metadata": {},
   "source": [
    "Importiamo librerie e file\n"
   ]
  },
  {
   "cell_type": "code",
   "execution_count": 1,
   "id": "c52814df",
   "metadata": {},
   "outputs": [
    {
     "data": {
      "text/html": [
       "<div>\n",
       "<style scoped>\n",
       "    .dataframe tbody tr th:only-of-type {\n",
       "        vertical-align: middle;\n",
       "    }\n",
       "\n",
       "    .dataframe tbody tr th {\n",
       "        vertical-align: top;\n",
       "    }\n",
       "\n",
       "    .dataframe thead th {\n",
       "        text-align: right;\n",
       "    }\n",
       "</style>\n",
       "<table border=\"1\" class=\"dataframe\">\n",
       "  <thead>\n",
       "    <tr style=\"text-align: right;\">\n",
       "      <th></th>\n",
       "      <th>Data</th>\n",
       "      <th>Prodotto</th>\n",
       "      <th>Quantità</th>\n",
       "      <th>Prezzo_unitario</th>\n",
       "    </tr>\n",
       "  </thead>\n",
       "  <tbody>\n",
       "    <tr>\n",
       "      <th>0</th>\n",
       "      <td>2024-07-01</td>\n",
       "      <td>Pane</td>\n",
       "      <td>10</td>\n",
       "      <td>1.0</td>\n",
       "    </tr>\n",
       "    <tr>\n",
       "      <th>1</th>\n",
       "      <td>2024-07-01</td>\n",
       "      <td>Latte</td>\n",
       "      <td>5</td>\n",
       "      <td>1.2</td>\n",
       "    </tr>\n",
       "    <tr>\n",
       "      <th>2</th>\n",
       "      <td>2024-07-02</td>\n",
       "      <td>Pane</td>\n",
       "      <td>8</td>\n",
       "      <td>1.0</td>\n",
       "    </tr>\n",
       "    <tr>\n",
       "      <th>3</th>\n",
       "      <td>2024-07-02</td>\n",
       "      <td>Biscotti</td>\n",
       "      <td>3</td>\n",
       "      <td>2.0</td>\n",
       "    </tr>\n",
       "    <tr>\n",
       "      <th>4</th>\n",
       "      <td>2024-07-03</td>\n",
       "      <td>Latte</td>\n",
       "      <td>7</td>\n",
       "      <td>1.2</td>\n",
       "    </tr>\n",
       "    <tr>\n",
       "      <th>5</th>\n",
       "      <td>2024-07-03</td>\n",
       "      <td>Pane</td>\n",
       "      <td>6</td>\n",
       "      <td>1.0</td>\n",
       "    </tr>\n",
       "    <tr>\n",
       "      <th>6</th>\n",
       "      <td>2024-07-04</td>\n",
       "      <td>Biscotti</td>\n",
       "      <td>2</td>\n",
       "      <td>2.0</td>\n",
       "    </tr>\n",
       "    <tr>\n",
       "      <th>7</th>\n",
       "      <td>2024-07-04</td>\n",
       "      <td>Pane</td>\n",
       "      <td>5</td>\n",
       "      <td>1.0</td>\n",
       "    </tr>\n",
       "    <tr>\n",
       "      <th>8</th>\n",
       "      <td>2024-07-05</td>\n",
       "      <td>Latte</td>\n",
       "      <td>4</td>\n",
       "      <td>1.2</td>\n",
       "    </tr>\n",
       "    <tr>\n",
       "      <th>9</th>\n",
       "      <td>2024-07-05</td>\n",
       "      <td>Biscotti</td>\n",
       "      <td>5</td>\n",
       "      <td>2.0</td>\n",
       "    </tr>\n",
       "  </tbody>\n",
       "</table>\n",
       "</div>"
      ],
      "text/plain": [
       "         Data  Prodotto  Quantità  Prezzo_unitario\n",
       "0  2024-07-01      Pane        10              1.0\n",
       "1  2024-07-01     Latte         5              1.2\n",
       "2  2024-07-02      Pane         8              1.0\n",
       "3  2024-07-02  Biscotti         3              2.0\n",
       "4  2024-07-03     Latte         7              1.2\n",
       "5  2024-07-03      Pane         6              1.0\n",
       "6  2024-07-04  Biscotti         2              2.0\n",
       "7  2024-07-04      Pane         5              1.0\n",
       "8  2024-07-05     Latte         4              1.2\n",
       "9  2024-07-05  Biscotti         5              2.0"
      ]
     },
     "execution_count": 1,
     "metadata": {},
     "output_type": "execute_result"
    }
   ],
   "source": [
    "import pandas as pd\n",
    "import matplotlib.pyplot as plt\n",
    "\n",
    "df = pd.read_csv(\"/home/giovanni/Programs/Python3/DataAnalyst-course/Esercizi/Giorno 5/vendite.csv\")\n",
    "df"
   ]
  },
  {
   "cell_type": "markdown",
   "id": "b57355fc",
   "metadata": {},
   "source": [
    "Calcola il fatturato per ogni acquisto"
   ]
  },
  {
   "cell_type": "code",
   "execution_count": 4,
   "id": "3b6d5d70",
   "metadata": {},
   "outputs": [
    {
     "data": {
      "text/html": [
       "<div>\n",
       "<style scoped>\n",
       "    .dataframe tbody tr th:only-of-type {\n",
       "        vertical-align: middle;\n",
       "    }\n",
       "\n",
       "    .dataframe tbody tr th {\n",
       "        vertical-align: top;\n",
       "    }\n",
       "\n",
       "    .dataframe thead th {\n",
       "        text-align: right;\n",
       "    }\n",
       "</style>\n",
       "<table border=\"1\" class=\"dataframe\">\n",
       "  <thead>\n",
       "    <tr style=\"text-align: right;\">\n",
       "      <th></th>\n",
       "      <th>Data</th>\n",
       "      <th>Prodotto</th>\n",
       "      <th>Quantità</th>\n",
       "      <th>Prezzo_unitario</th>\n",
       "      <th>Fatturato</th>\n",
       "    </tr>\n",
       "  </thead>\n",
       "  <tbody>\n",
       "    <tr>\n",
       "      <th>0</th>\n",
       "      <td>2024-07-01</td>\n",
       "      <td>Pane</td>\n",
       "      <td>10</td>\n",
       "      <td>1.0</td>\n",
       "      <td>10.0</td>\n",
       "    </tr>\n",
       "    <tr>\n",
       "      <th>1</th>\n",
       "      <td>2024-07-01</td>\n",
       "      <td>Latte</td>\n",
       "      <td>5</td>\n",
       "      <td>1.2</td>\n",
       "      <td>6.0</td>\n",
       "    </tr>\n",
       "    <tr>\n",
       "      <th>2</th>\n",
       "      <td>2024-07-02</td>\n",
       "      <td>Pane</td>\n",
       "      <td>8</td>\n",
       "      <td>1.0</td>\n",
       "      <td>8.0</td>\n",
       "    </tr>\n",
       "    <tr>\n",
       "      <th>3</th>\n",
       "      <td>2024-07-02</td>\n",
       "      <td>Biscotti</td>\n",
       "      <td>3</td>\n",
       "      <td>2.0</td>\n",
       "      <td>6.0</td>\n",
       "    </tr>\n",
       "    <tr>\n",
       "      <th>4</th>\n",
       "      <td>2024-07-03</td>\n",
       "      <td>Latte</td>\n",
       "      <td>7</td>\n",
       "      <td>1.2</td>\n",
       "      <td>8.4</td>\n",
       "    </tr>\n",
       "    <tr>\n",
       "      <th>5</th>\n",
       "      <td>2024-07-03</td>\n",
       "      <td>Pane</td>\n",
       "      <td>6</td>\n",
       "      <td>1.0</td>\n",
       "      <td>6.0</td>\n",
       "    </tr>\n",
       "    <tr>\n",
       "      <th>6</th>\n",
       "      <td>2024-07-04</td>\n",
       "      <td>Biscotti</td>\n",
       "      <td>2</td>\n",
       "      <td>2.0</td>\n",
       "      <td>4.0</td>\n",
       "    </tr>\n",
       "    <tr>\n",
       "      <th>7</th>\n",
       "      <td>2024-07-04</td>\n",
       "      <td>Pane</td>\n",
       "      <td>5</td>\n",
       "      <td>1.0</td>\n",
       "      <td>5.0</td>\n",
       "    </tr>\n",
       "    <tr>\n",
       "      <th>8</th>\n",
       "      <td>2024-07-05</td>\n",
       "      <td>Latte</td>\n",
       "      <td>4</td>\n",
       "      <td>1.2</td>\n",
       "      <td>4.8</td>\n",
       "    </tr>\n",
       "    <tr>\n",
       "      <th>9</th>\n",
       "      <td>2024-07-05</td>\n",
       "      <td>Biscotti</td>\n",
       "      <td>5</td>\n",
       "      <td>2.0</td>\n",
       "      <td>10.0</td>\n",
       "    </tr>\n",
       "  </tbody>\n",
       "</table>\n",
       "</div>"
      ],
      "text/plain": [
       "         Data  Prodotto  Quantità  Prezzo_unitario  Fatturato\n",
       "0  2024-07-01      Pane        10              1.0       10.0\n",
       "1  2024-07-01     Latte         5              1.2        6.0\n",
       "2  2024-07-02      Pane         8              1.0        8.0\n",
       "3  2024-07-02  Biscotti         3              2.0        6.0\n",
       "4  2024-07-03     Latte         7              1.2        8.4\n",
       "5  2024-07-03      Pane         6              1.0        6.0\n",
       "6  2024-07-04  Biscotti         2              2.0        4.0\n",
       "7  2024-07-04      Pane         5              1.0        5.0\n",
       "8  2024-07-05     Latte         4              1.2        4.8\n",
       "9  2024-07-05  Biscotti         5              2.0       10.0"
      ]
     },
     "execution_count": 4,
     "metadata": {},
     "output_type": "execute_result"
    }
   ],
   "source": [
    "df['Fatturato'] = df[\"Quantità\"] * df[\"Prezzo_unitario\"]\n",
    "df"
   ]
  },
  {
   "cell_type": "markdown",
   "id": "78bbaf58",
   "metadata": {},
   "source": [
    "Calcola il fatturato totale per ogni prodotto (usando groupby)."
   ]
  },
  {
   "cell_type": "code",
   "execution_count": 8,
   "id": "aa659efa",
   "metadata": {},
   "outputs": [
    {
     "data": {
      "text/plain": [
       "Prodotto\n",
       "Biscotti    20.0\n",
       "Latte       19.2\n",
       "Pane        29.0\n",
       "Name: Fatturato, dtype: float64"
      ]
     },
     "execution_count": 8,
     "metadata": {},
     "output_type": "execute_result"
    }
   ],
   "source": [
    "totale_prodotti = df.groupby(\"Prodotto\")[\"Fatturato\"].sum()\n",
    "totale_prodotti"
   ]
  },
  {
   "cell_type": "markdown",
   "id": "3c203819",
   "metadata": {},
   "source": [
    "Crea un grafico a barre che mostri il fatturato totale per ogni prodotto usando matplotlib."
   ]
  },
  {
   "cell_type": "code",
   "execution_count": null,
   "id": "9a377a99",
   "metadata": {},
   "outputs": [
    {
     "data": {
      "image/png": "[encoded data removed]",
      "text/plain": [
       "<Figure size 700x500 with 1 Axes>"
      ]
     },
     "metadata": {},
     "output_type": "display_data"
    }
   ],
   "source": [
    "totale_prodotti.plot(kind='bar', figsize=(7, 5), color='indaco', edgecolor='black')\n",
    "plt.title(\"Fatturato per Prodotto\")\n",
    "plt.xlabel(\"Prodotto\")\n",
    "plt.ylabel(\"Fatturato\")\n",
    "plt.xticks(rotation=0)\n",
    "plt.tight_layout()\n",
    "plt.grid(axis='y', linestyle='--', alpha=0.7)\n",
    "plt.axhline(y=totale_prodotti.mean(), color='r', linestyle='--', label='Media Fatturato')\n",
    "plt.legend()\n",
    "plt.show()\n",
    "\n"
   ]
  },
  {
   "cell_type": "code",
   "execution_count": 24,
   "id": "89e9ca7f",
   "metadata": {},
   "outputs": [
    {
     "data": {
      "image/png": "[encoded data removed]",
      "text/plain": [
       "<Figure size 500x500 with 1 Axes>"
      ]
     },
     "metadata": {},
     "output_type": "display_data"
    }
   ],
   "source": [
    "totale_prodotti.plot(kind='pie', figsize=(5, 5), autopct='%1.1f%%')\n",
    "plt.title(\"Distribuzione del Fatturato per Prodotto\")\n",
    "plt.ylabel(\"\")  # Rimuove l'etichetta dell'asse y\n",
    "plt.tight_layout()\n",
    "plt.show()"
   ]
  },
  {
   "cell_type": "markdown",
   "id": "e8d8ceb8",
   "metadata": {},
   "source": [
    "Qual è il prodotto che ha generato più fatturato?"
   ]
  },
  {
   "cell_type": "code",
   "execution_count": 11,
   "id": "0f7780ca",
   "metadata": {},
   "outputs": [
    {
     "name": "stdout",
     "output_type": "stream",
     "text": [
      "Il prodotto con il fatturato più alto è: Pane\n"
     ]
    }
   ],
   "source": [
    "prodotto_max_fatturato = totale_prodotti.idxmax()\n",
    "print(f\"Il prodotto con il fatturato più alto è: {prodotto_max_fatturato}\")"
   ]
  }
 ],
 "metadata": {
  "kernelspec": {
   "display_name": ".venv",
   "language": "python",
   "name": "python3"
  },
  "language_info": {
   "codemirror_mode": {
    "name": "ipython",
    "version": 3
   },
   "file_extension": ".py",
   "mimetype": "text/x-python",
   "name": "python",
   "nbconvert_exporter": "python",
   "pygments_lexer": "ipython3",
   "version": "3.13.5"
  }
 },
 "nbformat": 4,
 "nbformat_minor": 5
}
