{
 "cells": [
  {
   "cell_type": "code",
   "execution_count": 4,
   "id": "5cba8cf9",
   "metadata": {},
   "outputs": [
    {
     "name": "stdout",
     "output_type": "stream",
     "text": [
      "         Data  Prodotto  Quantità  Prezzo_unitario\n",
      "0  2024-06-01      Pane        10              1.0\n",
      "1  2024-06-01     Latte         5              1.2\n",
      "2  2024-06-02      Pane         8              1.0\n",
      "3  2024-06-02  Biscotti         3              2.0\n",
      "4  2024-06-03     Latte         7              1.2\n",
      "5  2024-06-03      Pane         6              1.0\n",
      "6  2024-06-03  Biscotti         4              2.0\n"
     ]
    }
   ],
   "source": [
    "import pandas as pd\n",
    "\n",
    "df = pd.read_csv(\"prova.csv\")\n",
    "print(df)"
   ]
  },
  {
   "cell_type": "code",
   "execution_count": 5,
   "id": "c80a6066",
   "metadata": {},
   "outputs": [
    {
     "name": "stdout",
     "output_type": "stream",
     "text": [
      "         Data  Prodotto  Quantità  Prezzo_unitario  Totale\n",
      "0  2024-06-01      Pane        10              1.0    10.0\n",
      "1  2024-06-01     Latte         5              1.2     6.0\n",
      "2  2024-06-02      Pane         8              1.0     8.0\n",
      "3  2024-06-02  Biscotti         3              2.0     6.0\n",
      "4  2024-06-03     Latte         7              1.2     8.4\n",
      "5  2024-06-03      Pane         6              1.0     6.0\n",
      "6  2024-06-03  Biscotti         4              2.0     8.0\n"
     ]
    }
   ],
   "source": [
    "df[\"Totale\"] = df[\"Prezzo_unitario\"] * df[\"Quantità\"]\n",
    "print(df)"
   ]
  },
  {
   "cell_type": "code",
   "execution_count": 12,
   "id": "bbb881cf",
   "metadata": {},
   "outputs": [
    {
     "name": "stdout",
     "output_type": "stream",
     "text": [
      "Lunghezza: 7\n"
     ]
    }
   ],
   "source": [
    "ricavo_totale = df[\"Totale\"].sum()\n",
    "print(f\"Lunghezza: {len(df[\"Prezzo_unitario\"])}\")"
   ]
  },
  {
   "cell_type": "code",
   "execution_count": 13,
   "id": "0ea89112",
   "metadata": {},
   "outputs": [
    {
     "name": "stdout",
     "output_type": "stream",
     "text": [
      "Il ricavo totale è: 52.40 euro\n"
     ]
    }
   ],
   "source": [
    "print(f\"Il ricavo totale è: {ricavo_totale:.2f} euro\")"
   ]
  }
 ],
 "metadata": {
  "kernelspec": {
   "display_name": "Python 3",
   "language": "python",
   "name": "python3"
  },
  "language_info": {
   "codemirror_mode": {
    "name": "ipython",
    "version": 3
   },
   "file_extension": ".py",
   "mimetype": "text/x-python",
   "name": "python",
   "nbconvert_exporter": "python",
   "pygments_lexer": "ipython3",
   "version": "3.13.5"
  }
 },
 "nbformat": 4,
 "nbformat_minor": 5
}
