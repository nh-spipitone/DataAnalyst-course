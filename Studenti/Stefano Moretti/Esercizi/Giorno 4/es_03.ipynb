{
 "cells": [
  {
   "cell_type": "code",
   "execution_count": 3,
   "id": "486f925f",
   "metadata": {},
   "outputs": [
    {
     "name": "stdout",
     "output_type": "stream",
     "text": [
      "Ciao, Stefano Moretti\n",
      "Sono Stefano Moretti e ho 30 anni\n"
     ]
    }
   ],
   "source": [
    "class Persona:\n",
    "    def __init__ (self, nome, cognome, eta):\n",
    "        self.nome = nome\n",
    "        self.cognome = cognome\n",
    "        self.eta = eta\n",
    "        \n",
    "\n",
    "    def saluta(self):\n",
    "        print(f\"Ciao, {self.nome} {self.cognome}\")\n",
    "\n",
    "    def descrizione(self):\n",
    "        print(f\"Sono {self.nome} {self.cognome} e ho {self.eta} anni\")\n",
    "\n",
    "p1 = Persona(\"Stefano\", \"Moretti\", 30)\n",
    "p1.saluta()\n",
    "p1.descrizione()"
   ]
  },
  {
   "cell_type": "code",
   "execution_count": 4,
   "id": "f759db2e",
   "metadata": {},
   "outputs": [
    {
     "name": "stdout",
     "output_type": "stream",
     "text": [
      "Auto: Fiat Panda, Anno: 2020, Porte: 5\n",
      "Moto: Yamaha MT-07, Anno: 2019, Cilindrata: 689cc\n"
     ]
    }
   ],
   "source": [
    "class Veicolo:\n",
    "    def __init__(self, marca, modello, anno):\n",
    "        self.marca = marca\n",
    "        self.modello = modello\n",
    "        self.anno = anno\n",
    "\n",
    "class Auto(Veicolo):\n",
    "    def __init__(self, marca, modello, anno, numero_porte):\n",
    "        super().__init__(marca, modello, anno)\n",
    "        self.numero_porte = numero_porte\n",
    "\n",
    "    def info(self):\n",
    "        print(f\"Auto: {self.marca} {self.modello}, Anno: {self.anno}, Porte: {self.numero_porte}\")\n",
    "\n",
    "class Moto(Veicolo):\n",
    "    def __init__(self, marca, modello, anno, cilindrata):\n",
    "        super().__init__(marca, modello, anno)\n",
    "        self.cilindrata = cilindrata\n",
    "    \n",
    "    def info(self):\n",
    "        print(f\"Moto: {self.marca} {self.modello}, Anno: {self.anno}, Cilindrata: {self.cilindrata}cc\")\n",
    "\n",
    "auto1 = Auto(\"Fiat\", \"Panda\", 2020, 5)\n",
    "moto1 = Moto(\"Yamaha\", \"MT-07\", 2019, 689)\n",
    "auto1.info()\n",
    "moto1.info()"
   ]
  },
  {
   "cell_type": "code",
   "execution_count": 2,
   "id": "0f9668b5",
   "metadata": {},
   "outputs": [
    {
     "name": "stdout",
     "output_type": "stream",
     "text": [
      "Alimento: Pane, Prezzo: 1.5€, Scadenza: 2023-12-31\n",
      "Elettronico: Smartphone, Prezzo: 299.99€, Garanzia: 2 anni\n"
     ]
    }
   ],
   "source": [
    "class Prodotto:\n",
    "    def __init__ (self, nome, prezzo):\n",
    "        self.nome = nome\n",
    "        self.prezzo = prezzo\n",
    "\n",
    "class Alimentari(Prodotto):\n",
    "    def __init__(self, nome, prezzo, scadenza):\n",
    "        super().__init__(nome, prezzo)\n",
    "        self.scadenza = scadenza\n",
    "\n",
    "    def info(self):\n",
    "        print(f\"Alimento: {self.nome}, Prezzo: {self.prezzo}€, Scadenza: {self.scadenza}\")\n",
    "\n",
    "class Elettronico(Prodotto):\n",
    "    def __init__(self, nome, prezzo, garanzia):\n",
    "        super().__init__(nome, prezzo)\n",
    "        self.garanzia = garanzia\n",
    "\n",
    "    def info(self):\n",
    "        print(f\"Elettronico: {self.nome}, Prezzo: {self.prezzo}€, Garanzia: {self.garanzia} anni\")\n",
    "\n",
    "alimento1 = Alimentari(\"Pane\", 1.5, \"2023-12-31\")\n",
    "elettronico1 = Elettronico(\"Smartphone\", 299.99, 2)\n",
    "alimento1.info()\n",
    "elettronico1.info()"
   ]
  }
 ],
 "metadata": {
  "kernelspec": {
   "display_name": "Python 3",
   "language": "python",
   "name": "python3"
  },
  "language_info": {
   "codemirror_mode": {
    "name": "ipython",
    "version": 3
   },
   "file_extension": ".py",
   "mimetype": "text/x-python",
   "name": "python",
   "nbconvert_exporter": "python",
   "pygments_lexer": "ipython3",
   "version": "3.13.5"
  }
 },
 "nbformat": 4,
 "nbformat_minor": 5
}
