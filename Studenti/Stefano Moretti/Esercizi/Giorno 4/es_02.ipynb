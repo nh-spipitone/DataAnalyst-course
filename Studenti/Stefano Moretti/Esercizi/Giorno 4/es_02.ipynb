{
 "cells": [
  {
   "cell_type": "code",
   "execution_count": 13,
   "id": "345471ae",
   "metadata": {},
   "outputs": [
    {
     "data": {
      "text/html": [
       "<div>\n",
       "<style scoped>\n",
       "    .dataframe tbody tr th:only-of-type {\n",
       "        vertical-align: middle;\n",
       "    }\n",
       "\n",
       "    .dataframe tbody tr th {\n",
       "        vertical-align: top;\n",
       "    }\n",
       "\n",
       "    .dataframe thead th {\n",
       "        text-align: right;\n",
       "    }\n",
       "</style>\n",
       "<table border=\"1\" class=\"dataframe\">\n",
       "  <thead>\n",
       "    <tr style=\"text-align: right;\">\n",
       "      <th></th>\n",
       "      <th>OrdineID</th>\n",
       "      <th>Data</th>\n",
       "      <th>Cliente</th>\n",
       "      <th>Prodotto</th>\n",
       "      <th>Quantità</th>\n",
       "      <th>Prezzo_unitario</th>\n",
       "      <th>Spedito</th>\n",
       "    </tr>\n",
       "  </thead>\n",
       "  <tbody>\n",
       "    <tr>\n",
       "      <th>0</th>\n",
       "      <td>1001</td>\n",
       "      <td>2024-06-01</td>\n",
       "      <td>Mario Rossi</td>\n",
       "      <td>Laptop</td>\n",
       "      <td>1</td>\n",
       "      <td>800.0</td>\n",
       "      <td>True</td>\n",
       "    </tr>\n",
       "    <tr>\n",
       "      <th>1</th>\n",
       "      <td>1002</td>\n",
       "      <td>2024-06-01</td>\n",
       "      <td>Giulia Bianchi</td>\n",
       "      <td>Mouse</td>\n",
       "      <td>2</td>\n",
       "      <td>15.5</td>\n",
       "      <td>True</td>\n",
       "    </tr>\n",
       "    <tr>\n",
       "      <th>2</th>\n",
       "      <td>1003</td>\n",
       "      <td>2024-06-02</td>\n",
       "      <td>Luigi Verdi</td>\n",
       "      <td>Monitor</td>\n",
       "      <td>1</td>\n",
       "      <td>200.0</td>\n",
       "      <td>False</td>\n",
       "    </tr>\n",
       "    <tr>\n",
       "      <th>3</th>\n",
       "      <td>1004</td>\n",
       "      <td>2024-06-03</td>\n",
       "      <td>Mario Rossi</td>\n",
       "      <td>Mouse</td>\n",
       "      <td>1</td>\n",
       "      <td>15.5</td>\n",
       "      <td>True</td>\n",
       "    </tr>\n",
       "    <tr>\n",
       "      <th>4</th>\n",
       "      <td>1005</td>\n",
       "      <td>2024-06-03</td>\n",
       "      <td>Anna Neri</td>\n",
       "      <td>Laptop</td>\n",
       "      <td>2</td>\n",
       "      <td>790.0</td>\n",
       "      <td>True</td>\n",
       "    </tr>\n",
       "  </tbody>\n",
       "</table>\n",
       "</div>"
      ],
      "text/plain": [
       "   OrdineID        Data         Cliente Prodotto  Quantità  Prezzo_unitario  \\\n",
       "0      1001  2024-06-01     Mario Rossi   Laptop         1            800.0   \n",
       "1      1002  2024-06-01  Giulia Bianchi    Mouse         2             15.5   \n",
       "2      1003  2024-06-02     Luigi Verdi  Monitor         1            200.0   \n",
       "3      1004  2024-06-03     Mario Rossi    Mouse         1             15.5   \n",
       "4      1005  2024-06-03       Anna Neri   Laptop         2            790.0   \n",
       "\n",
       "   Spedito  \n",
       "0     True  \n",
       "1     True  \n",
       "2    False  \n",
       "3     True  \n",
       "4     True  "
      ]
     },
     "execution_count": 13,
     "metadata": {},
     "output_type": "execute_result"
    }
   ],
   "source": [
    "import pandas as pd\n",
    "import matplotlib.pyplot as plt\n",
    "df = pd.read_csv(\"ordini.csv\")\n",
    "df.head()"
   ]
  },
  {
   "cell_type": "code",
   "execution_count": 2,
   "id": "e5fe0d25",
   "metadata": {},
   "outputs": [
    {
     "data": {
      "text/html": [
       "<div>\n",
       "<style scoped>\n",
       "    .dataframe tbody tr th:only-of-type {\n",
       "        vertical-align: middle;\n",
       "    }\n",
       "\n",
       "    .dataframe tbody tr th {\n",
       "        vertical-align: top;\n",
       "    }\n",
       "\n",
       "    .dataframe thead th {\n",
       "        text-align: right;\n",
       "    }\n",
       "</style>\n",
       "<table border=\"1\" class=\"dataframe\">\n",
       "  <thead>\n",
       "    <tr style=\"text-align: right;\">\n",
       "      <th></th>\n",
       "      <th>OrdineID</th>\n",
       "      <th>Data</th>\n",
       "      <th>Cliente</th>\n",
       "      <th>Prodotto</th>\n",
       "      <th>Quantità</th>\n",
       "      <th>Prezzo_unitario</th>\n",
       "      <th>Spedito</th>\n",
       "      <th>Totale</th>\n",
       "    </tr>\n",
       "  </thead>\n",
       "  <tbody>\n",
       "    <tr>\n",
       "      <th>0</th>\n",
       "      <td>1001</td>\n",
       "      <td>2024-06-01</td>\n",
       "      <td>Mario Rossi</td>\n",
       "      <td>Laptop</td>\n",
       "      <td>1</td>\n",
       "      <td>800.0</td>\n",
       "      <td>True</td>\n",
       "      <td>800.0</td>\n",
       "    </tr>\n",
       "    <tr>\n",
       "      <th>1</th>\n",
       "      <td>1002</td>\n",
       "      <td>2024-06-01</td>\n",
       "      <td>Giulia Bianchi</td>\n",
       "      <td>Mouse</td>\n",
       "      <td>2</td>\n",
       "      <td>15.5</td>\n",
       "      <td>True</td>\n",
       "      <td>31.0</td>\n",
       "    </tr>\n",
       "    <tr>\n",
       "      <th>2</th>\n",
       "      <td>1003</td>\n",
       "      <td>2024-06-02</td>\n",
       "      <td>Luigi Verdi</td>\n",
       "      <td>Monitor</td>\n",
       "      <td>1</td>\n",
       "      <td>200.0</td>\n",
       "      <td>False</td>\n",
       "      <td>200.0</td>\n",
       "    </tr>\n",
       "    <tr>\n",
       "      <th>3</th>\n",
       "      <td>1004</td>\n",
       "      <td>2024-06-03</td>\n",
       "      <td>Mario Rossi</td>\n",
       "      <td>Mouse</td>\n",
       "      <td>1</td>\n",
       "      <td>15.5</td>\n",
       "      <td>True</td>\n",
       "      <td>15.5</td>\n",
       "    </tr>\n",
       "    <tr>\n",
       "      <th>4</th>\n",
       "      <td>1005</td>\n",
       "      <td>2024-06-03</td>\n",
       "      <td>Anna Neri</td>\n",
       "      <td>Laptop</td>\n",
       "      <td>2</td>\n",
       "      <td>790.0</td>\n",
       "      <td>True</td>\n",
       "      <td>1580.0</td>\n",
       "    </tr>\n",
       "  </tbody>\n",
       "</table>\n",
       "</div>"
      ],
      "text/plain": [
       "   OrdineID        Data         Cliente Prodotto  Quantità  Prezzo_unitario  \\\n",
       "0      1001  2024-06-01     Mario Rossi   Laptop         1            800.0   \n",
       "1      1002  2024-06-01  Giulia Bianchi    Mouse         2             15.5   \n",
       "2      1003  2024-06-02     Luigi Verdi  Monitor         1            200.0   \n",
       "3      1004  2024-06-03     Mario Rossi    Mouse         1             15.5   \n",
       "4      1005  2024-06-03       Anna Neri   Laptop         2            790.0   \n",
       "\n",
       "   Spedito  Totale  \n",
       "0     True   800.0  \n",
       "1     True    31.0  \n",
       "2    False   200.0  \n",
       "3     True    15.5  \n",
       "4     True  1580.0  "
      ]
     },
     "execution_count": 2,
     "metadata": {},
     "output_type": "execute_result"
    }
   ],
   "source": [
    "df[\"Totale\"] = df[\"Prezzo_unitario\"] * df[\"Quantità\"]\n",
    "df.head()\n"
   ]
  },
  {
   "cell_type": "code",
   "execution_count": 3,
   "id": "4f7dc02f",
   "metadata": {},
   "outputs": [
    {
     "name": "stdout",
     "output_type": "stream",
     "text": [
      "[(1003, '2024-06-02', 'Luigi Verdi', 'Monitor', 200.0), (1006, '2024-06-03', 'Giulia Bianchi', 'Monitor', 195.0)]\n"
     ]
    }
   ],
   "source": [
    "lista_non_spediti = []\n",
    "\n",
    "for i, ordine in df.iterrows():\n",
    "    \n",
    "    if not ordine[\"Spedito\"]:\n",
    "        lista_non_spediti.append((ordine[\"OrdineID\"], ordine[\"Data\"], ordine[\"Cliente\"], ordine[\"Prodotto\"], ordine[\"Totale\"]))\n",
    "\n",
    "print(lista_non_spediti)"
   ]
  },
  {
   "cell_type": "code",
   "execution_count": 4,
   "id": "b6082d00",
   "metadata": {},
   "outputs": [
    {
     "name": "stdout",
     "output_type": "stream",
     "text": [
      "Cliente\n",
      "Anna Neri         1622.0\n",
      "Mario Rossi        815.5\n",
      "Giulia Bianchi     226.0\n",
      "Luigi Verdi        200.0\n",
      "Name: Totale, dtype: float64\n"
     ]
    }
   ],
   "source": [
    "fatturato_clienti = df.groupby(\"Cliente\")[\"Totale\"].sum().sort_values(ascending=False)\n",
    "\n",
    "print(fatturato_clienti)"
   ]
  },
  {
   "cell_type": "code",
   "execution_count": 5,
   "id": "c9b18cd4",
   "metadata": {},
   "outputs": [
    {
     "name": "stdout",
     "output_type": "stream",
     "text": [
      "Il prodotto più venduto è: Mouse\n"
     ]
    }
   ],
   "source": [
    "prodotto_piu_venduto = df.groupby(\"Prodotto\")[\"Quantità\"].sum().idxmax()\n",
    "\n",
    "print(f\"Il prodotto più venduto è: {prodotto_piu_venduto}\")"
   ]
  },
  {
   "cell_type": "code",
   "execution_count": 5,
   "id": "ddb549ef",
   "metadata": {},
   "outputs": [
    {
     "name": "stdout",
     "output_type": "stream",
     "text": [
      "         Data  Totale\n",
      "0  2024-06-01   831.0\n",
      "1  2024-06-02   200.0\n",
      "2  2024-06-03  1790.5\n",
      "3  2024-06-04    42.0\n"
     ]
    }
   ],
   "source": [
    "fatturato_giornaliero = df.groupby(\"Data\")[\"Totale\"].sum().reset_index()\n",
    "print(fatturato_giornaliero)"
   ]
  },
  {
   "cell_type": "code",
   "execution_count": 24,
   "id": "5c5a0957",
   "metadata": {},
   "outputs": [
    {
     "data": {
      "image/png": "[encoded data removed]",
      "text/plain": [
       "<Figure size 1000x800 with 1 Axes>"
      ]
     },
     "metadata": {},
     "output_type": "display_data"
    }
   ],
   "source": [
    "plt.figure(figsize=(10, 8))\n",
    "plt.bar(fatturato_giornaliero[\"Data\"], fatturato_giornaliero[\"Totale\"], color='skyblue')\n",
    "plt.title(\"Fatturato Giornaliero\", fontsize=16)\n",
    "plt.xlabel(\"Data\", fontsize=14)\n",
    "plt.ylabel(\"Fatturato (€)\", fontsize=14)\n",
    "plt.tight_layout\n",
    "plt.show()"
   ]
  }
 ],
 "metadata": {
  "kernelspec": {
   "display_name": "Python 3",
   "language": "python",
   "name": "python3"
  },
  "language_info": {
   "codemirror_mode": {
    "name": "ipython",
    "version": 3
   },
   "file_extension": ".py",
   "mimetype": "text/x-python",
   "name": "python",
   "nbconvert_exporter": "python",
   "pygments_lexer": "ipython3",
   "version": "3.13.5"
  }
 },
 "nbformat": 4,
 "nbformat_minor": 5
}
