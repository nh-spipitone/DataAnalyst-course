{
 "cells": [
  {
   "cell_type": "code",
   "execution_count": 3,
   "id": "748a9ec5",
   "metadata": {},
   "outputs": [
    {
     "name": "stdout",
     "output_type": "stream",
     "text": [
      "Alice ha superato l'esame con un voto di 20.\n",
      "Bob non ha superato l'esame con un voto di 15.\n",
      "Carla ha superato l'esame con un voto di 18.\n",
      "Davide ha superato l'esame con un voto di 22.\n",
      "Elena non ha superato l'esame con un voto di 17.\n",
      "Numero di studenti che non hanno superato l'esame: 2\n"
     ]
    }
   ],
   "source": [
    "class Scuola:\n",
    "    def __init__(self, nome_scuola, indirizzo):\n",
    "        self.nome_scuola = nome_scuola\n",
    "        self.indirizzo = indirizzo\n",
    "\n",
    "    def mostra_scuola(self):\n",
    "        print(f\"Scuola: {self.nome_scuola}, Indirizzo: {self.indirizzo}\")\n",
    "        \n",
    "\n",
    "class Studente(Scuola):\n",
    "    \n",
    "    def __init__(self, nome, voto):\n",
    "        self.nome = nome\n",
    "        self.voto = voto\n",
    "\n",
    "    def ha_superato(self) -> bool:\n",
    "        return self.voto >= 18\n",
    "    \n",
    "lista_studenti = [\n",
    "    Studente(\"Alice\", 20),\n",
    "    Studente(\"Bob\", 15),\n",
    "    Studente(\"Carla\", 18),\n",
    "    Studente(\"Davide\", 22),\n",
    "    Studente(\"Elena\", 17),\n",
    "]\n",
    "count = 0\n",
    "for studente in lista_studenti:\n",
    "    if studente.ha_superato():\n",
    "        print(f\"{studente.nome} ha superato l'esame con un voto di {studente.voto}.\")\n",
    "    else:\n",
    "        print(f\"{studente.nome} non ha superato l'esame con un voto di {studente.voto}.\")\n",
    "        count += 1\n",
    "\n",
    "print(f\"Numero di studenti che non hanno superato l'esame: {count}\")"
   ]
  }
 ],
 "metadata": {
  "kernelspec": {
   "display_name": "Python 3",
   "language": "python",
   "name": "python3"
  },
  "language_info": {
   "codemirror_mode": {
    "name": "ipython",
    "version": 3
   },
   "file_extension": ".py",
   "mimetype": "text/x-python",
   "name": "python",
   "nbconvert_exporter": "python",
   "pygments_lexer": "ipython3",
   "version": "3.13.5"
  }
 },
 "nbformat": 4,
 "nbformat_minor": 5
}
