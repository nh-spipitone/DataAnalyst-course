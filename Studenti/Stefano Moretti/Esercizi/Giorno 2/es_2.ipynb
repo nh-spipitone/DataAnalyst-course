{
 "cells": [
  {
   "cell_type": "code",
   "execution_count": 4,
   "id": "23daecd5",
   "metadata": {},
   "outputs": [
    {
     "name": "stdout",
     "output_type": "stream",
     "text": [
      "Mi chiamo Stefano e ho 26 anni.\n"
     ]
    }
   ],
   "source": [
    "def presentazione(nome, eta):\n",
    "    print(f\"Mi chiamo {nome} e ho {eta} anni.\")\n",
    "\n",
    "presentazione(\"Stefano\", 26)\n"
   ]
  }
 ],
 "metadata": {
  "kernelspec": {
   "display_name": "Python 3",
   "language": "python",
   "name": "python3"
  },
  "language_info": {
   "codemirror_mode": {
    "name": "ipython",
    "version": 3
   },
   "file_extension": ".py",
   "mimetype": "text/x-python",
   "name": "python",
   "nbconvert_exporter": "python",
   "pygments_lexer": "ipython3",
   "version": "3.13.5"
  }
 },
 "nbformat": 4,
 "nbformat_minor": 5
}
