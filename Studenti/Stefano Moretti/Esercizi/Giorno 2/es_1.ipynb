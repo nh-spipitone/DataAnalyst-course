{
 "cells": [
  {
   "cell_type": "code",
   "execution_count": 3,
   "id": "fe3edc4b",
   "metadata": {},
   "outputs": [
    {
     "name": "stdout",
     "output_type": "stream",
     "text": [
      "A temperatura media é:  30.4\n",
      "Temperature in ordine descrescente:  [35, 33, 30, 29, 25]\n"
     ]
    }
   ],
   "source": [
    "temperature_max = [25, 30,33, 35, 29]\n",
    "\n",
    "media = 0\n",
    "\n",
    "for temp in temperature_max:\n",
    "    media += temp\n",
    "\n",
    "media = media / len(temperature_max)\n",
    "\n",
    "print(\"A temperatura media é: \", media)\n",
    "\n",
    "temperature_max.sort(reverse=True)\n",
    "print(\"Temperature in ordine descrescente: \", temperature_max)   \n"
   ]
  },
  {
   "cell_type": "code",
   "execution_count": null,
   "id": "46444236",
   "metadata": {},
   "outputs": [
    {
     "name": "stdout",
     "output_type": "stream",
     "text": [
      "Temperature in tupla:  (35, 33, 30, 29, 25)\n"
     ]
    }
   ],
   "source": [
    "tupla_temperature = tuple(temperature_max)\n",
    "print(\"Temperature in tupla: \", tupla_temperature)\n"
   ]
  },
  {
   "cell_type": "code",
   "execution_count": 7,
   "id": "d322f421",
   "metadata": {},
   "outputs": [
    {
     "name": "stdout",
     "output_type": "stream",
     "text": [
      "Numeri con duplicati:  [3, 5, 3, 7, 5, 9, 3]\n",
      "Numeri senza duplicati:  {9, 3, 5, 7}\n",
      "Numero di duplicati:  3\n"
     ]
    }
   ],
   "source": [
    "numeri = [3, 5, 3, 7, 5, 9, 3]\n",
    "print(\"Numeri con duplicati: \", numeri)\n",
    "numeri_set = set(numeri)\n",
    "print(\"Numeri senza duplicati: \", numeri_set)\n",
    "confronto = len(numeri) - len(numeri_set)\n",
    "print(\"Numero di duplicati: \", confronto)"
   ]
  },
  {
   "cell_type": "code",
   "execution_count": 10,
   "id": "a8cfda9f",
   "metadata": {},
   "outputs": [
    {
     "name": "stdout",
     "output_type": "stream",
     "text": [
      "Il voto è ottimo.\n"
     ]
    }
   ],
   "source": [
    "ask = int(input(\"Inserisci un voto da 0 a 100: \"))\n",
    "try:\n",
    "    if ask < 0 or ask > 100:\n",
    "        raise ValueError(\"Il voto deve essere tra 0 e 100.\")\n",
    "    if ask < 60:\n",
    "        print(\"Il voto è insufficiente.\")\n",
    "    elif ask < 70:\n",
    "        print(\"Il voto è sufficiente.\")\n",
    "    elif ask < 80:\n",
    "        print(\"Il voto è buono.\")\n",
    "    elif ask < 90:\n",
    "        print(\"Il voto è ottimo.\")\n",
    "    elif ask <= 100:\n",
    "        print(\"Il voto è eccellente.\")\n",
    "except ValueError as e:\n",
    "    print(e)\n"
   ]
  },
  {
   "cell_type": "code",
   "execution_count": 15,
   "id": "3c8324b0",
   "metadata": {},
   "outputs": [
    {
     "name": "stdout",
     "output_type": "stream",
     "text": [
      "7 x 1 = 7\n",
      "7 x 2 = 14\n",
      "7 x 3 = 21\n",
      "7 x 4 = 28\n",
      "7 x 5 = 35\n",
      "7 x 6 = 42\n",
      "7 x 7 = 49\n",
      "7 x 8 = 56\n",
      "7 x 9 = 63\n",
      "7 x 10 = 70\n"
     ]
    }
   ],
   "source": [
    "tabellina_sette = []\n",
    "for i in range(1, 11):\n",
    "    tabellina = 7 * i\n",
    "    tabellina_sette.append(tabellina)\n",
    "    print(\"7 x\", i, \"=\", tabellina)"
   ]
  },
  {
   "cell_type": "code",
   "execution_count": 20,
   "id": "0fc36803",
   "metadata": {},
   "outputs": [
    {
     "name": "stdout",
     "output_type": "stream",
     "text": [
      "Numeri inseriti:  [45.0]\n",
      "Numeri inseriti:  [45.0, 18.0]\n",
      "Numeri inseriti:  [45.0, 18.0, -56.0]\n",
      "Numeri inseriti:  [45.0, 18.0, -56.0, 47.0]\n",
      "Numeri inseriti:  [45.0, 18.0, -56.0, 47.0, -2.0]\n",
      "Somma dei numeri inseriti:  52.0\n",
      "Media dei numeri inseriti:  10.4\n",
      "Uscita dal programma.\n"
     ]
    }
   ],
   "source": [
    "lista = []\n",
    "while True:\n",
    "    n = float(input(\"Digita un numero o usa 0 per uscire: \"))\n",
    "    try:\n",
    "        if n == 0:\n",
    "            somma = sum(lista)\n",
    "            print(\"Somma dei numeri inseriti: \", somma)\n",
    "            media_lista = somma / len(lista) if lista else 0\n",
    "            print(\"Media dei numeri inseriti: \", media_lista)\n",
    "            print(\"Uscita dal programma.\")\n",
    "            break\n",
    "        elif n != 0:\n",
    "            lista.append(n)\n",
    "        print(\"Numeri inseriti: \", lista)\n",
    "    except ValueError as e:\n",
    "        print(\"Errore: \", e)"
   ]
  },
  {
   "cell_type": "code",
   "execution_count": null,
   "id": "c8682040",
   "metadata": {},
   "outputs": [
    {
     "name": "stdout",
     "output_type": "stream",
     "text": [
      "Lista della spesa aggiornata:  {'mele': 3.2, 'pane': 1.0, 'latte': 1.5, 'fagioli': 1.5}\n",
      "mele: 3.2 euro\n",
      "pane: 1.0 euro\n",
      "latte: 1.5 euro\n",
      "fagioli: 1.5 euro\n",
      "Totale spesa: 7.2 euro\n"
     ]
    },
    {
     "data": {
      "text/plain": [
       "'totale = 0\\nfor prezzo in spesa.values():\\n    print(f\"Prezzo: {prezzo} euro\")\\n    totale += prezzo\\nprint(f\"Totale spesa: {totale} euro\")\\n    '"
      ]
     },
     "execution_count": 22,
     "metadata": {},
     "output_type": "execute_result"
    }
   ],
   "source": [
    "spesa = {\"mele\": 3.2, \"pane\": 1.0, \"latte\": 1.5}\n",
    "totale = 0\n",
    "inserisci_articolo = str(input(\"Inserisci un articolo da aggiungere alla spesa: \"))\n",
    "inserisci_prezzo = float(input(\"Inserisci il suo prezzo: \"))\n",
    "spesa[inserisci_articolo] = inserisci_prezzo\n",
    "\n",
    "print(\"Lista della spesa aggiornata: \", spesa)\n",
    "\n",
    "\n",
    "for articolo, prezzo in spesa.items():\n",
    "    print(f\"{articolo}: {prezzo} euro\")\n",
    "    totale += prezzo\n",
    "print(f\"Totale spesa: {totale} euro\")\n",
    "    \n",
    "\n",
    "# totale = 0\n",
    "# for prezzo in spesa.values():\n",
    "#     print(f\"Prezzo: {prezzo} euro\")\n",
    "#     totale += prezzo\n",
    "# print(f\"Totale spesa: {totale} euro\")\n",
    "    \n",
    "\n",
    "    "
   ]
  },
  {
   "cell_type": "code",
   "execution_count": 23,
   "id": "8effa73c",
   "metadata": {},
   "outputs": [
    {
     "name": "stdout",
     "output_type": "stream",
     "text": [
      "Benvenuto nella rubrica telefonica!\n",
      "Contatto Stefano aggiunto con successo.\n",
      "Contatti in ordine alfabetico:\n",
      "Stefano: 123456789\n",
      "Contatti in ordine alfabetico:\n",
      "Stefano: 123456789\n",
      "Contatto Paolo aggiunto con successo.\n",
      "Contatti in ordine alfabetico:\n",
      "Paolo: 456789123\n",
      "Stefano: 123456789\n",
      "Il numero di Stefano è: 123456789\n",
      "Contatto Stefano eliminato con successo.\n",
      "Contatti in ordine alfabetico:\n",
      "Paolo: 456789123\n",
      "Uscita dal programma.\n"
     ]
    }
   ],
   "source": [
    "print(\"Benvenuto nella rubrica telefonica!\")\n",
    "rubrica = {}\n",
    "while True:\n",
    "    comando = int(input(\"Cosa vuoi fare?\\n1. Aggiungi contatto\\n2. Cerca numero per nome\\n3 Elenca tutti i contatti in ordine alfabetico\\n4. Elimina un contatto\\n5. Esci\"))\n",
    "    if comando == 5:\n",
    "        print(\"Uscita dal programma.\")\n",
    "        break #esce dal ciclo\n",
    "    elif comando == 1:\n",
    "        nome = input(\"Inserisci il nome del contatto: \")\n",
    "        if nome in rubrica:\n",
    "            print(\"Il contatto esiste già.\")\n",
    "            continue #continua il ciclo senza aggiungere il contatto\n",
    "        numero = int(input(\"Inserisci il numero di telefono: \"))\n",
    "        rubrica[nome] = numero\n",
    "        print(f\"Contatto {nome} aggiunto con successo.\")\n",
    "    elif comando == 2:\n",
    "        nome = input(\"Inserisci il nome del contatto da cercare: \")\n",
    "        if nome in rubrica:\n",
    "            print(f\"Il numero di {nome} è: {rubrica[nome]}\")\n",
    "        else:\n",
    "            print(\"Contatto non trovato.\")\n",
    "    elif comando == 3:\n",
    "        if not rubrica:\n",
    "            print(\"La rubrica è vuota.\")\n",
    "        else:\n",
    "            print(\"Contatti in ordine alfabetico:\")\n",
    "            for nome in sorted(rubrica):\n",
    "                print(f\"{nome}: {rubrica[nome]}\")\n",
    "    elif comando == 4:\n",
    "        nome = input(\"Inserisci il nome del contatto da eliminare: \")\n",
    "        if nome in rubrica:\n",
    "            rubrica.pop(nome)\n",
    "            print(f\"Contatto {nome} eliminato con successo.\")\n",
    "        else:\n",
    "            print(\"Contatto non trovato.\")      \n",
    "    else:\n",
    "        print(\"Comando non valido. Riprova.\")\n",
    "        \n"
   ]
  }
 ],
 "metadata": {
  "kernelspec": {
   "display_name": "Python 3",
   "language": "python",
   "name": "python3"
  },
  "language_info": {
   "codemirror_mode": {
    "name": "ipython",
    "version": 3
   },
   "file_extension": ".py",
   "mimetype": "text/x-python",
   "name": "python",
   "nbconvert_exporter": "python",
   "pygments_lexer": "ipython3",
   "version": "3.13.5"
  }
 },
 "nbformat": 4,
 "nbformat_minor": 5
}
