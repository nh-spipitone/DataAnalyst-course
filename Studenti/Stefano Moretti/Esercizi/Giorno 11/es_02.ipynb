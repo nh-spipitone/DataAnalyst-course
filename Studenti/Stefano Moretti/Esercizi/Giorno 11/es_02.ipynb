{
 "cells": [
  {
   "cell_type": "code",
   "execution_count": null,
   "id": "7cb27ba6",
   "metadata": {},
   "outputs": [],
   "source": [
    "from selenium import webdriver\n",
    "from selenium.webdriver.common.by import By\n",
    "import time as t\n",
    "from selenium.webdriver.support.ui import WebDriverWait\n",
    "from selenium.webdriver.support import expected_conditions as EC\n",
    "from selenium.webdriver.chrome.options import Options\n",
    "import pandas as pd"
   ]
  },
  {
   "cell_type": "code",
   "execution_count": null,
   "id": "34ef0b8d",
   "metadata": {},
   "outputs": [],
   "source": [
    "driver = webdriver.Chrome()\n",
    "driver.get(\"https://quotes.toscrape.com\")\n",
    "\n",
    "quotes = driver.find_elements(By.CLASS_NAME, \"text\")\n",
    "for quote in quotes:\n",
    "    print(quote.text)\n",
    "\n",
    "t.sleep(3)\n",
    "driver.quit()\n"
   ]
  },
  {
   "cell_type": "code",
   "execution_count": null,
   "id": "1062ee3f",
   "metadata": {},
   "outputs": [],
   "source": [
    "driver = webdriver.Chrome()\n",
    "driver.get(\"https://quotes.toscrape.com\")\n",
    "\n",
    "quotes = driver.find_elements(By.CLASS_NAME, \"quote\")\n",
    "print(f\"Numero totale di citazioni: {len(quotes)}\")\n",
    "\n",
    "tags = driver.find_elements(By.CLASS_NAME, \"tag\")\n",
    "tag_list = set()  # Usare un set per evitare duplicati\n",
    "for tag in tags:\n",
    "    tag_list.add(tag.text)\n",
    "\n",
    "print(\"Tag unici:\")\n",
    "for tag in tag_list:\n",
    "    print(tag)\n",
    "\n",
    "driver.quit()\n"
   ]
  },
  {
   "cell_type": "code",
   "execution_count": null,
   "id": "ef209dac",
   "metadata": {},
   "outputs": [
    {
     "name": "stdout",
     "output_type": "stream",
     "text": [
      "Citazione: “The world as we have created it is a process of our thinking. It cannot be changed without changing our thinking.”\n",
      "Autore: Albert Einstein\n",
      "Tags: obvious, abilities, reading, success, miracles, inspirational, change, live, aliteracy, humor, books, simile, thinking, deep-thoughts, edison, misattributed-eleanor-roosevelt, love, life, failure, be-yourself, classic, truth, friendship, choices, friends, value, world, adulthood, paraphrased, miracle\n",
      "\n",
      "Citazione: “It is our choices, Harry, that show what we truly are, far more than our abilities.”\n",
      "Autore: J.K. Rowling\n",
      "Tags: obvious, abilities, reading, success, miracles, inspirational, change, live, aliteracy, humor, books, simile, thinking, deep-thoughts, edison, misattributed-eleanor-roosevelt, love, life, failure, be-yourself, classic, truth, friendship, choices, friends, value, world, adulthood, paraphrased, miracle\n",
      "\n",
      "Citazione: “There are only two ways to live your life. One is as though nothing is a miracle. The other is as though everything is a miracle.”\n",
      "Autore: Albert Einstein\n",
      "Tags: obvious, abilities, reading, success, miracles, inspirational, change, live, aliteracy, humor, books, simile, thinking, deep-thoughts, edison, misattributed-eleanor-roosevelt, love, life, failure, be-yourself, classic, truth, friendship, choices, friends, value, world, adulthood, paraphrased, miracle\n",
      "\n",
      "Citazione: “The person, be it gentleman or lady, who has not pleasure in a good novel, must be intolerably stupid.”\n",
      "Autore: Jane Austen\n",
      "Tags: obvious, abilities, reading, success, miracles, inspirational, change, live, aliteracy, humor, books, simile, thinking, deep-thoughts, edison, misattributed-eleanor-roosevelt, love, life, failure, be-yourself, classic, truth, friendship, choices, friends, value, world, adulthood, paraphrased, miracle\n",
      "\n",
      "Citazione: “Imperfection is beauty, madness is genius and it's better to be absolutely ridiculous than absolutely boring.”\n",
      "Autore: Marilyn Monroe\n",
      "Tags: obvious, abilities, reading, success, miracles, inspirational, change, live, aliteracy, humor, books, simile, thinking, deep-thoughts, edison, misattributed-eleanor-roosevelt, love, life, failure, be-yourself, classic, truth, friendship, choices, friends, value, world, adulthood, paraphrased, miracle\n",
      "\n",
      "Citazione: “Try not to become a man of success. Rather become a man of value.”\n",
      "Autore: Albert Einstein\n",
      "Tags: obvious, abilities, reading, success, miracles, inspirational, change, live, aliteracy, humor, books, simile, thinking, deep-thoughts, edison, misattributed-eleanor-roosevelt, love, life, failure, be-yourself, classic, truth, friendship, choices, friends, value, world, adulthood, paraphrased, miracle\n",
      "\n",
      "Citazione: “It is better to be hated for what you are than to be loved for what you are not.”\n",
      "Autore: André Gide\n",
      "Tags: obvious, abilities, reading, success, miracles, inspirational, change, live, aliteracy, humor, books, simile, thinking, deep-thoughts, edison, misattributed-eleanor-roosevelt, love, life, failure, be-yourself, classic, truth, friendship, choices, friends, value, world, adulthood, paraphrased, miracle\n",
      "\n",
      "Citazione: “I have not failed. I've just found 10,000 ways that won't work.”\n",
      "Autore: Thomas A. Edison\n",
      "Tags: obvious, abilities, reading, success, miracles, inspirational, change, live, aliteracy, humor, books, simile, thinking, deep-thoughts, edison, misattributed-eleanor-roosevelt, love, life, failure, be-yourself, classic, truth, friendship, choices, friends, value, world, adulthood, paraphrased, miracle\n",
      "\n",
      "Citazione: “A woman is like a tea bag; you never know how strong it is until it's in hot water.”\n",
      "Autore: Eleanor Roosevelt\n",
      "Tags: obvious, abilities, reading, success, miracles, inspirational, change, live, aliteracy, humor, books, simile, thinking, deep-thoughts, edison, misattributed-eleanor-roosevelt, love, life, failure, be-yourself, classic, truth, friendship, choices, friends, value, world, adulthood, paraphrased, miracle\n",
      "\n",
      "Citazione: “A day without sunshine is like, you know, night.”\n",
      "Autore: Steve Martin\n",
      "Tags: obvious, abilities, reading, success, miracles, inspirational, change, live, aliteracy, humor, books, simile, thinking, deep-thoughts, edison, misattributed-eleanor-roosevelt, love, life, failure, be-yourself, classic, truth, friendship, choices, friends, value, world, adulthood, paraphrased, miracle\n",
      "\n",
      "Nessun altro elemento da caricare o errore: Message: element not interactable: element has zero size\n",
      "  (Session info: chrome=138.0.7204.97); For documentation on this error, please visit: https://www.selenium.dev/documentation/webdriver/troubleshooting/errors#elementnotinteractableexception\n",
      "Stacktrace:\n",
      "\tGetHandleVerifier [0x0x7ff701526f75+76917]\n",
      "\tGetHandleVerifier [0x0x7ff701526fd0+77008]\n",
      "\t(No symbol) [0x0x7ff7012d9dea]\n",
      "\t(No symbol) [0x0x7ff701331abb]\n",
      "\t(No symbol) [0x0x7ff701323368]\n",
      "\t(No symbol) [0x0x7ff70135846a]\n",
      "\t(No symbol) [0x0x7ff701322c16]\n",
      "\t(No symbol) [0x0x7ff701358680]\n",
      "\t(No symbol) [0x0x7ff70138065c]\n",
      "\t(No symbol) [0x0x7ff701358243]\n",
      "\t(No symbol) [0x0x7ff701321431]\n",
      "\t(No symbol) [0x0x7ff7013221c3]\n",
      "\tGetHandleVerifier [0x0x7ff7017fd2ad+3051437]\n",
      "\tGetHandleVerifier [0x0x7ff7017f7903+3028483]\n",
      "\tGetHandleVerifier [0x0x7ff70181589d+3151261]\n",
      "\tGetHandleVerifier [0x0x7ff70154183e+185662]\n",
      "\tGetHandleVerifier [0x0x7ff7015496ff+218111]\n",
      "\tGetHandleVerifier [0x0x7ff70152faf4+112628]\n",
      "\tGetHandleVerifier [0x0x7ff70152fca9+113065]\n",
      "\tGetHandleVerifier [0x0x7ff701516c78+10616]\n",
      "\tBaseThreadInitThunk [0x0x7fff5c95e8d7+23]\n",
      "\tRtlUserThreadStart [0x0x7fff5d53c34c+44]\n",
      "\n"
     ]
    }
   ],
   "source": [
    "driver = webdriver.Chrome()\n",
    "driver.get(\"https://quotes.toscrape.com\")\n",
    "\n",
    "while True:\n",
    "    quotes = driver.find_elements(By.CLASS_NAME, \"quote\")\n",
    "    tags = driver.find_elements(By.CLASS_NAME, \"tag\")\n",
    "    tags_list = set()  # Usare un set per evitare duplicati\n",
    "    \n",
    "    for tag in tags:\n",
    "        tags_list.add(tag.text)\n",
    "    \n",
    "    for quote in quotes:\n",
    "        text = quote.find_element(By.CLASS_NAME, \"text\").text\n",
    "        author = quote.find_element(By.CLASS_NAME, \"author\").text\n",
    "        print(f\"Citazione: {text}\\nAutore: {author}\\nTags: {', '.join(tags_list)}\\n\")\n",
    "\n",
    "    \n",
    "\n",
    "    try:\n",
    "        next_button = driver.find_element(By.CLASS_NAME, \"next\")\n",
    "        next_button.click()\n",
    "    except Exception as e:\n",
    "        print(\"Nessun altro elemento da caricare o errore:\", e)\n",
    "        break   \n",
    "\n",
    "driver.quit()"
   ]
  },
  {
   "cell_type": "code",
   "execution_count": 18,
   "id": "ea6d943f",
   "metadata": {},
   "outputs": [
    {
     "name": "stdout",
     "output_type": "stream",
     "text": [
      "Citazione di Albert Einstein: “The world as we have created it is a process of our thinking. It cannot be changed without changing our thinking.”\n",
      "Citazione di Albert Einstein: “There are only two ways to live your life. One is as though nothing is a miracle. The other is as though everything is a miracle.”\n",
      "Citazione di Albert Einstein: “Try not to become a man of success. Rather become a man of value.”\n"
     ]
    }
   ],
   "source": [
    "driver = webdriver.Chrome()\n",
    "driver.get(\"https://quotes.toscrape.com\")\n",
    "\n",
    "quotes = driver.find_elements(By.CLASS_NAME, \"quote\")\n",
    "for quote in quotes:\n",
    "    author = quote.find_element(By.CLASS_NAME, \"author\").text\n",
    "    if author == \"Albert Einstein\":\n",
    "        text = quote.find_element(By.CLASS_NAME, \"text\").text\n",
    "        print(f\"Citazione di {author}: {text}\")\n",
    "\n",
    "driver.quit()"
   ]
  }
 ],
 "metadata": {
  "kernelspec": {
   "display_name": "Python 3",
   "language": "python",
   "name": "python3"
  },
  "language_info": {
   "codemirror_mode": {
    "name": "ipython",
    "version": 3
   },
   "file_extension": ".py",
   "mimetype": "text/x-python",
   "name": "python",
   "nbconvert_exporter": "python",
   "pygments_lexer": "ipython3",
   "version": "3.13.5"
  }
 },
 "nbformat": 4,
 "nbformat_minor": 5
}
