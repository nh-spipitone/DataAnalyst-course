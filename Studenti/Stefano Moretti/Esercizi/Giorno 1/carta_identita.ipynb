{
 "cells": [
  {
   "cell_type": "markdown",
   "id": "46f84ecf",
   "metadata": {},
   "source": [
    "Creiamo una tupla utente"
   ]
  },
  {
   "cell_type": "code",
   "execution_count": 4,
   "id": "55bd47fe",
   "metadata": {},
   "outputs": [],
   "source": [
    "utente = (\"Maria\", \"Rossi\", 25)"
   ]
  },
  {
   "cell_type": "code",
   "execution_count": 1,
   "id": "59056af9",
   "metadata": {},
   "outputs": [],
   "source": [
    "utente = (\"Marco\", \"Sfogli\", 16)"
   ]
  },
  {
   "cell_type": "markdown",
   "id": "e5423ee6",
   "metadata": {},
   "source": [
    "Separiamo i suoi elementi per variabile"
   ]
  },
  {
   "cell_type": "code",
   "execution_count": 5,
   "id": "4eade09d",
   "metadata": {},
   "outputs": [],
   "source": [
    "nome = utente[0]\n",
    "cognome = utente[1]\n",
    "eta = utente[2]"
   ]
  },
  {
   "cell_type": "markdown",
   "id": "a31ab8cf",
   "metadata": {},
   "source": [
    "Verifichiamo se l'utente è maggiorenne "
   ]
  },
  {
   "cell_type": "code",
   "execution_count": 6,
   "id": "ae837fea",
   "metadata": {},
   "outputs": [
    {
     "name": "stdout",
     "output_type": "stream",
     "text": [
      "Maria Rossi è maggiorenne.\n"
     ]
    }
   ],
   "source": [
    "if eta >= 18:\n",
    "    print(f\"{nome} {cognome} è maggiorenne.\")\n",
    "else:\n",
    "    print(f\"{nome} {cognome} è minorenne.\")"
   ]
  }
 ],
 "metadata": {
  "kernelspec": {
   "display_name": "Python 3",
   "language": "python",
   "name": "python3"
  },
  "language_info": {
   "codemirror_mode": {
    "name": "ipython",
    "version": 3
   },
   "file_extension": ".py",
   "mimetype": "text/x-python",
   "name": "python",
   "nbconvert_exporter": "python",
   "pygments_lexer": "ipython3",
   "version": "3.13.5"
  }
 },
 "nbformat": 4,
 "nbformat_minor": 5
}
