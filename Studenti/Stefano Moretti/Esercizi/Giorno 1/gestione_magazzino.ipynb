{
 "cells": [
  {
   "cell_type": "markdown",
   "id": "e2821cf6",
   "metadata": {},
   "source": [
    "Creiamo la lista prodotti e stampiamo la lista"
   ]
  },
  {
   "cell_type": "code",
   "execution_count": 1,
   "id": "b9f736d6",
   "metadata": {},
   "outputs": [
    {
     "name": "stdout",
     "output_type": "stream",
     "text": [
      "['tastiera', 'mouse', 'monitor', 'cuffie']\n"
     ]
    }
   ],
   "source": [
    "prodotti = [\"tastiera\", \"mouse\", \"monitor\", \"cuffie\"]\n",
    "print(prodotti)"
   ]
  },
  {
   "cell_type": "markdown",
   "id": "924a8d39",
   "metadata": {},
   "source": [
    "Creiamo una variabile prodotto_da_rimuovere con l'elemento che vogliamo eliminare"
   ]
  },
  {
   "cell_type": "code",
   "execution_count": 2,
   "id": "5a3c2c9f",
   "metadata": {},
   "outputs": [],
   "source": [
    "prodotto_da_rimuovere = \"mouse\""
   ]
  },
  {
   "cell_type": "code",
   "execution_count": 2,
   "id": "0783a667",
   "metadata": {},
   "outputs": [],
   "source": [
    "prodotto_da_rimuovere = \"webcam\""
   ]
  },
  {
   "cell_type": "markdown",
   "id": "eb667ed3",
   "metadata": {},
   "source": [
    "Possiamo anche creare un input che ci chiede cosa vogliamo eliminare"
   ]
  },
  {
   "cell_type": "code",
   "execution_count": 4,
   "id": "238d1e72",
   "metadata": {},
   "outputs": [],
   "source": [
    "prodotto_da_rimuovere = str(input(\"Inserisci il prodotto da rimuovere: \")).lower()"
   ]
  },
  {
   "cell_type": "markdown",
   "id": "e9095f23",
   "metadata": {},
   "source": [
    "Verifichiamo se prodotto_da_rimuovere è presente all'interno della nostra lista"
   ]
  },
  {
   "cell_type": "code",
   "execution_count": 5,
   "id": "de4e118b",
   "metadata": {},
   "outputs": [
    {
     "name": "stdout",
     "output_type": "stream",
     "text": [
      "Prodotto rimosso: mouse\n",
      "Elenco aggiornato dei prodotti: ['tastiera', 'monitor', 'cuffie']\n"
     ]
    }
   ],
   "source": [
    "if prodotto_da_rimuovere in prodotti:\n",
    "    prodotti.remove(prodotto_da_rimuovere)\n",
    "    print(f\"Prodotto rimosso: {prodotto_da_rimuovere}\")\n",
    "else:\n",
    "    print(f\"Il prodotto {prodotto_da_rimuovere} non è presente nell'elenco.\")\n",
    "\n",
    "print(\"Elenco aggiornato dei prodotti:\", prodotti)"
   ]
  }
 ],
 "metadata": {
  "kernelspec": {
   "display_name": "Python 3",
   "language": "python",
   "name": "python3"
  },
  "language_info": {
   "codemirror_mode": {
    "name": "ipython",
    "version": 3
   },
   "file_extension": ".py",
   "mimetype": "text/x-python",
   "name": "python",
   "nbconvert_exporter": "python",
   "pygments_lexer": "ipython3",
   "version": "3.13.5"
  }
 },
 "nbformat": 4,
 "nbformat_minor": 5
}
