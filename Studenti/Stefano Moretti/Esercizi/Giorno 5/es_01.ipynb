{
 "cells": [
  {
   "cell_type": "markdown",
   "id": "ecd1f52a",
   "metadata": {},
   "source": [
    "Esercizio analisi vendite"
   ]
  },
  {
   "cell_type": "markdown",
   "id": "64073826",
   "metadata": {},
   "source": [
    "Importiamo le librerie e il file e visualizziamo le prime 5 righe"
   ]
  },
  {
   "cell_type": "code",
   "execution_count": 6,
   "id": "96b214a9",
   "metadata": {},
   "outputs": [
    {
     "data": {
      "text/html": [
       "<div>\n",
       "<style scoped>\n",
       "    .dataframe tbody tr th:only-of-type {\n",
       "        vertical-align: middle;\n",
       "    }\n",
       "\n",
       "    .dataframe tbody tr th {\n",
       "        vertical-align: top;\n",
       "    }\n",
       "\n",
       "    .dataframe thead th {\n",
       "        text-align: right;\n",
       "    }\n",
       "</style>\n",
       "<table border=\"1\" class=\"dataframe\">\n",
       "  <thead>\n",
       "    <tr style=\"text-align: right;\">\n",
       "      <th></th>\n",
       "      <th>Data</th>\n",
       "      <th>Prodotto</th>\n",
       "      <th>Quantità</th>\n",
       "      <th>Prezzo_unitario</th>\n",
       "    </tr>\n",
       "  </thead>\n",
       "  <tbody>\n",
       "    <tr>\n",
       "      <th>0</th>\n",
       "      <td>2024-07-01</td>\n",
       "      <td>Pane</td>\n",
       "      <td>10</td>\n",
       "      <td>1.0</td>\n",
       "    </tr>\n",
       "    <tr>\n",
       "      <th>1</th>\n",
       "      <td>2024-07-01</td>\n",
       "      <td>Latte</td>\n",
       "      <td>5</td>\n",
       "      <td>1.2</td>\n",
       "    </tr>\n",
       "    <tr>\n",
       "      <th>2</th>\n",
       "      <td>2024-07-02</td>\n",
       "      <td>Pane</td>\n",
       "      <td>8</td>\n",
       "      <td>1.0</td>\n",
       "    </tr>\n",
       "    <tr>\n",
       "      <th>3</th>\n",
       "      <td>2024-07-02</td>\n",
       "      <td>Biscotti</td>\n",
       "      <td>3</td>\n",
       "      <td>2.0</td>\n",
       "    </tr>\n",
       "    <tr>\n",
       "      <th>4</th>\n",
       "      <td>2024-07-03</td>\n",
       "      <td>Latte</td>\n",
       "      <td>7</td>\n",
       "      <td>1.2</td>\n",
       "    </tr>\n",
       "  </tbody>\n",
       "</table>\n",
       "</div>"
      ],
      "text/plain": [
       "         Data  Prodotto  Quantità  Prezzo_unitario\n",
       "0  2024-07-01      Pane        10              1.0\n",
       "1  2024-07-01     Latte         5              1.2\n",
       "2  2024-07-02      Pane         8              1.0\n",
       "3  2024-07-02  Biscotti         3              2.0\n",
       "4  2024-07-03     Latte         7              1.2"
      ]
     },
     "execution_count": 6,
     "metadata": {},
     "output_type": "execute_result"
    }
   ],
   "source": [
    "import pandas as pd\n",
    "import matplotlib.pyplot as plt\n",
    "\n",
    "df = pd.read_csv(\"vendite.csv\")\n",
    "df.head()"
   ]
  },
  {
   "cell_type": "code",
   "execution_count": null,
   "id": "35ea3df6",
   "metadata": {},
   "outputs": [
    {
     "name": "stdout",
     "output_type": "stream",
     "text": [
      "         Data  Prezzo_unitario\n",
      "0  2024-07-01              2.2\n",
      "1  2024-07-02              3.0\n",
      "2  2024-07-03              2.2\n",
      "3  2024-07-04              3.0\n",
      "4  2024-07-05              3.2\n"
     ]
    }
   ],
   "source": [
    "feratturato_giornalio = df.groupby(\"Data\")[\"Prezzo_unitario\"].sum().reset_index()\n",
    "print(fatturato_giornaliero)"
   ]
  },
  {
   "cell_type": "code",
   "execution_count": 14,
   "id": "2e22560e",
   "metadata": {},
   "outputs": [
    {
     "data": {
      "text/html": [
       "<div>\n",
       "<style scoped>\n",
       "    .dataframe tbody tr th:only-of-type {\n",
       "        vertical-align: middle;\n",
       "    }\n",
       "\n",
       "    .dataframe tbody tr th {\n",
       "        vertical-align: top;\n",
       "    }\n",
       "\n",
       "    .dataframe thead th {\n",
       "        text-align: right;\n",
       "    }\n",
       "</style>\n",
       "<table border=\"1\" class=\"dataframe\">\n",
       "  <thead>\n",
       "    <tr style=\"text-align: right;\">\n",
       "      <th></th>\n",
       "      <th>Data</th>\n",
       "      <th>Prodotto</th>\n",
       "      <th>Quantità</th>\n",
       "      <th>Prezzo_unitario</th>\n",
       "      <th>Fatturato</th>\n",
       "    </tr>\n",
       "  </thead>\n",
       "  <tbody>\n",
       "    <tr>\n",
       "      <th>0</th>\n",
       "      <td>2024-07-01</td>\n",
       "      <td>Pane</td>\n",
       "      <td>10</td>\n",
       "      <td>1.0</td>\n",
       "      <td>10.0</td>\n",
       "    </tr>\n",
       "    <tr>\n",
       "      <th>1</th>\n",
       "      <td>2024-07-01</td>\n",
       "      <td>Latte</td>\n",
       "      <td>5</td>\n",
       "      <td>1.2</td>\n",
       "      <td>6.0</td>\n",
       "    </tr>\n",
       "    <tr>\n",
       "      <th>2</th>\n",
       "      <td>2024-07-02</td>\n",
       "      <td>Pane</td>\n",
       "      <td>8</td>\n",
       "      <td>1.0</td>\n",
       "      <td>8.0</td>\n",
       "    </tr>\n",
       "    <tr>\n",
       "      <th>3</th>\n",
       "      <td>2024-07-02</td>\n",
       "      <td>Biscotti</td>\n",
       "      <td>3</td>\n",
       "      <td>2.0</td>\n",
       "      <td>6.0</td>\n",
       "    </tr>\n",
       "    <tr>\n",
       "      <th>4</th>\n",
       "      <td>2024-07-03</td>\n",
       "      <td>Latte</td>\n",
       "      <td>7</td>\n",
       "      <td>1.2</td>\n",
       "      <td>8.4</td>\n",
       "    </tr>\n",
       "  </tbody>\n",
       "</table>\n",
       "</div>"
      ],
      "text/plain": [
       "         Data  Prodotto  Quantità  Prezzo_unitario  Fatturato\n",
       "0  2024-07-01      Pane        10              1.0       10.0\n",
       "1  2024-07-01     Latte         5              1.2        6.0\n",
       "2  2024-07-02      Pane         8              1.0        8.0\n",
       "3  2024-07-02  Biscotti         3              2.0        6.0\n",
       "4  2024-07-03     Latte         7              1.2        8.4"
      ]
     },
     "execution_count": 14,
     "metadata": {},
     "output_type": "execute_result"
    }
   ],
   "source": [
    "df[\"Fatturato\"] = df[\"Quantità\"]*df[\"Prezzo_unitario\"]\n",
    "df.head()"
   ]
  },
  {
   "cell_type": "code",
   "execution_count": 15,
   "id": "bd4d9040",
   "metadata": {},
   "outputs": [
    {
     "name": "stdout",
     "output_type": "stream",
     "text": [
      "   Prodotto  Prezzo_unitario\n",
      "0  Biscotti              6.0\n",
      "1     Latte              3.6\n",
      "2      Pane              4.0\n"
     ]
    }
   ],
   "source": [
    "fatturato_totale_prodotto = df.groupby(\"Prodotto\")[\"Prezzo_unitario\"].sum().reset_index()\n",
    "print(fatturato_totale_prodotto)"
   ]
  },
  {
   "cell_type": "code",
   "execution_count": null,
   "id": "c4b80a2e",
   "metadata": {},
   "outputs": [
    {
     "data": {
      "image/png": "[encoded data removed]",
      "text/plain": [
       "<Figure size 1000x800 with 1 Axes>"
      ]
     },
     "metadata": {},
     "output_type": "display_data"
    }
   ],
   "source": [
    "plt.figure(figsize=(10, 8))\n",
    "fatturato_totale_prodotto = df.groupby(\"Prodotto\")[\"Prezzo_unitario\"].sum()\n",
    "fatturato_totale_prodotto.plot(kind='bar', color='turquoise')\n",
    "plt.title(\"Fatturato totale per ogni prodotto\", fontsize=16)\n",
    "plt.xlabel(\"Prodotto\", fontsize=14)\n",
    "plt.ylabel(\"Fatturato in €\", fontsize=14)\n",
    "plt.tight_layout()\n",
    "plt.show()\n"
   ]
  },
  {
   "cell_type": "code",
   "execution_count": null,
   "id": "35b21cdf",
   "metadata": {},
   "outputs": [],
   "source": [
    "prodotto_piu_venduto = fatturato_totale_prodotto.idxmax()\n",
    "fatturato_piu_venduto = fatturato_totale_prodotto.max()"
   ]
  }
 ],
 "metadata": {
  "kernelspec": {
   "display_name": "Python 3",
   "language": "python",
   "name": "python3"
  },
  "language_info": {
   "codemirror_mode": {
    "name": "ipython",
    "version": 3
   },
   "file_extension": ".py",
   "mimetype": "text/x-python",
   "name": "python",
   "nbconvert_exporter": "python",
   "pygments_lexer": "ipython3",
   "version": "3.13.5"
  }
 },
 "nbformat": 4,
 "nbformat_minor": 5
}
