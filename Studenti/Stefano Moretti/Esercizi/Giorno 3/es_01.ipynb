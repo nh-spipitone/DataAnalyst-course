{
 "cells": [
  {
   "cell_type": "code",
   "execution_count": 5,
   "id": "37f91c6d",
   "metadata": {},
   "outputs": [
    {
     "data": {
      "text/plain": [
       "['1',\n",
       " '2',\n",
       " 'Fizz',\n",
       " '4',\n",
       " 'Buzz',\n",
       " 'Fizz',\n",
       " 'Sette',\n",
       " '8',\n",
       " 'Fizz',\n",
       " 'Buzz',\n",
       " '11',\n",
       " 'Fizz',\n",
       " '13',\n",
       " '14',\n",
       " 'FizzBuzz',\n",
       " '16',\n",
       " 'Sette',\n",
       " 'Fizz',\n",
       " '19',\n",
       " 'Buzz']"
      ]
     },
     "execution_count": 5,
     "metadata": {},
     "output_type": "execute_result"
    }
   ],
   "source": [
    "def fizzbuzz_personalizzato(n:int, parola:str) -> str:\n",
    "  \n",
    "    risultati = []\n",
    "    for numero in range(1, n + 1):\n",
    "        if \"7\" in str(numero):\n",
    "            risultati.append(parola)\n",
    "        elif numero % 3 == 0 and numero % 5 == 0:\n",
    "            risultati.append(\"FizzBuzz\")\n",
    "        elif numero % 3 == 0:\n",
    "            risultati.append(\"Fizz\")\n",
    "        elif numero % 5 == 0:\n",
    "            risultati.append(\"Buzz\")\n",
    "        else:\n",
    "            risultati.append(str(numero))\n",
    "    return risultati\n",
    "\n",
    "fizzbuzz_personalizzato(20, \"Sette\")  # Esempio di utilizzo"
   ]
  }
 ],
 "metadata": {
  "kernelspec": {
   "display_name": "Python 3",
   "language": "python",
   "name": "python3"
  },
  "language_info": {
   "codemirror_mode": {
    "name": "ipython",
    "version": 3
   },
   "file_extension": ".py",
   "mimetype": "text/x-python",
   "name": "python",
   "nbconvert_exporter": "python",
   "pygments_lexer": "ipython3",
   "version": "3.13.5"
  }
 },
 "nbformat": 4,
 "nbformat_minor": 5
}
