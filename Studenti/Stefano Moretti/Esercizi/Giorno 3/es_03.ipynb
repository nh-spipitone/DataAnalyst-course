{
 "cells": [
  {
   "cell_type": "markdown",
   "id": "fbb30100",
   "metadata": {},
   "source": [
    "Esercizio 1"
   ]
  },
  {
   "cell_type": "code",
   "execution_count": 5,
   "id": "e79055da",
   "metadata": {},
   "outputs": [
    {
     "name": "stdout",
     "output_type": "stream",
     "text": [
      "Davide è maggiorenne.\n",
      "Luca è minorenne.\n",
      "Errore: '>=' not supported between instances of 'str' and 'int'. Assicurati che l'età sia un numero.\n"
     ]
    }
   ],
   "source": [
    "class Persona:\n",
    "    def __init__(self, nome, eta):\n",
    "        self.nome = nome\n",
    "        self.eta = eta\n",
    "    \n",
    "    def maggiorenne(self):\n",
    "        try:\n",
    "            if self.eta >= 18:\n",
    "                return f\"{self.nome} è maggiorenne.\"\n",
    "            else:\n",
    "                return f\"{self.nome} è minorenne.\"\n",
    "        except TypeError as e:\n",
    "            return f\"Errore: {e}. Assicurati che l'età sia un numero.\"\n",
    "        \n",
    "persona1 = Persona(\"Davide\", 20)\n",
    "persona2 = Persona(\"Luca\", 16)  \n",
    "persona3 = Persona(\"Anna\", \"venti\")  # Questo causerà un errore di tipo\n",
    "\n",
    "print(persona1.maggiorenne())\n",
    "print(persona2.maggiorenne())\n",
    "print(persona3.maggiorenne())  # Questo stamperà un messaggio di errore\n"
   ]
  },
  {
   "cell_type": "markdown",
   "id": "691bc22a",
   "metadata": {},
   "source": [
    "Esercizio 2"
   ]
  },
  {
   "cell_type": "code",
   "execution_count": null,
   "id": "85a79b47",
   "metadata": {},
   "outputs": [],
   "source": [
    "class Studente:\n",
    "    def __init__(self)"
   ]
  }
 ],
 "metadata": {
  "kernelspec": {
   "display_name": "Python 3",
   "language": "python",
   "name": "python3"
  },
  "language_info": {
   "codemirror_mode": {
    "name": "ipython",
    "version": 3
   },
   "file_extension": ".py",
   "mimetype": "text/x-python",
   "name": "python",
   "nbconvert_exporter": "python",
   "pygments_lexer": "ipython3",
   "version": "3.13.5"
  }
 },
 "nbformat": 4,
 "nbformat_minor": 5
}
