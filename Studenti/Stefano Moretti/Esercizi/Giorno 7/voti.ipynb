{
 "cells": [
  {
   "cell_type": "code",
   "execution_count": 23,
   "id": "55954a0a",
   "metadata": {},
   "outputs": [
    {
     "data": {
      "text/html": [
       "<div>\n",
       "<style scoped>\n",
       "    .dataframe tbody tr th:only-of-type {\n",
       "        vertical-align: middle;\n",
       "    }\n",
       "\n",
       "    .dataframe tbody tr th {\n",
       "        vertical-align: top;\n",
       "    }\n",
       "\n",
       "    .dataframe thead th {\n",
       "        text-align: right;\n",
       "    }\n",
       "</style>\n",
       "<table border=\"1\" class=\"dataframe\">\n",
       "  <thead>\n",
       "    <tr style=\"text-align: right;\">\n",
       "      <th></th>\n",
       "      <th>Nome</th>\n",
       "      <th>Matematica</th>\n",
       "      <th>Italiano</th>\n",
       "      <th>Storia</th>\n",
       "      <th>Media voto alunno</th>\n",
       "    </tr>\n",
       "  </thead>\n",
       "  <tbody>\n",
       "    <tr>\n",
       "      <th>0</th>\n",
       "      <td>Anna</td>\n",
       "      <td>7</td>\n",
       "      <td>8</td>\n",
       "      <td>6</td>\n",
       "      <td>7.000000</td>\n",
       "    </tr>\n",
       "    <tr>\n",
       "      <th>1</th>\n",
       "      <td>Marco</td>\n",
       "      <td>5</td>\n",
       "      <td>6</td>\n",
       "      <td>7</td>\n",
       "      <td>6.000000</td>\n",
       "    </tr>\n",
       "    <tr>\n",
       "      <th>2</th>\n",
       "      <td>Sara</td>\n",
       "      <td>9</td>\n",
       "      <td>7</td>\n",
       "      <td>8</td>\n",
       "      <td>8.000000</td>\n",
       "    </tr>\n",
       "    <tr>\n",
       "      <th>3</th>\n",
       "      <td>Luca</td>\n",
       "      <td>6</td>\n",
       "      <td>5</td>\n",
       "      <td>6</td>\n",
       "      <td>5.666667</td>\n",
       "    </tr>\n",
       "    <tr>\n",
       "      <th>4</th>\n",
       "      <td>Giulia</td>\n",
       "      <td>8</td>\n",
       "      <td>9</td>\n",
       "      <td>7</td>\n",
       "      <td>8.000000</td>\n",
       "    </tr>\n",
       "  </tbody>\n",
       "</table>\n",
       "</div>"
      ],
      "text/plain": [
       "     Nome  Matematica  Italiano  Storia  Media voto alunno\n",
       "0    Anna           7         8       6           7.000000\n",
       "1   Marco           5         6       7           6.000000\n",
       "2    Sara           9         7       8           8.000000\n",
       "3    Luca           6         5       6           5.666667\n",
       "4  Giulia           8         9       7           8.000000"
      ]
     },
     "execution_count": 23,
     "metadata": {},
     "output_type": "execute_result"
    }
   ],
   "source": [
    "import pandas as pd\n",
    "import matplotlib.pyplot as plt\n",
    "\n",
    "df = pd.read_csv('voti.csv')\n",
    "\n",
    "df[\"Media voto alunno\"] = df[[\"Matematica\", \"Italiano\",\"Storia\"]].mean(axis=1)\n",
    "df\n"
   ]
  },
  {
   "cell_type": "code",
   "execution_count": 24,
   "id": "70d8405f",
   "metadata": {},
   "outputs": [
    {
     "data": {
      "text/plain": [
       "Matematica    7.0\n",
       "Italiano      7.0\n",
       "Storia        6.8\n",
       "dtype: float64"
      ]
     },
     "execution_count": 24,
     "metadata": {},
     "output_type": "execute_result"
    }
   ],
   "source": [
    "media_voto_materia = df[[\"Matematica\", \"Italiano\",\"Storia\"]].mean()\n",
    "media_voto_materia"
   ]
  },
  {
   "cell_type": "code",
   "execution_count": 19,
   "id": "e0484cdf",
   "metadata": {},
   "outputs": [
    {
     "data": {
      "text/plain": [
       "Nome                 Sara\n",
       "Matematica              9\n",
       "Italiano                7\n",
       "Storia                  8\n",
       "Media voto alunno     8.0\n",
       "Name: 2, dtype: object"
      ]
     },
     "execution_count": 19,
     "metadata": {},
     "output_type": "execute_result"
    }
   ],
   "source": [
    "alunno_migliore = df.loc[df[\"Media voto alunno\"].idxmax()]\n",
    "alunno_migliore"
   ]
  },
  {
   "cell_type": "code",
   "execution_count": 22,
   "id": "31ed1828",
   "metadata": {},
   "outputs": [
    {
     "name": "stdout",
     "output_type": "stream",
     "text": [
      "L'alunno con la media più alta è Sara con un voto medio di 8.00.\n"
     ]
    }
   ],
   "source": [
    "nome_alunno_migliore = alunno_migliore[\"Nome\"]\n",
    "print(f\"L'alunno con la media più alta è {nome_alunno_migliore} con un voto medio di {alunno_migliore['Media voto alunno']:.2f}.\")"
   ]
  },
  {
   "cell_type": "code",
   "execution_count": 29,
   "id": "6398a302",
   "metadata": {},
   "outputs": [
    {
     "data": {
      "image/png": "[encoded data removed]",
      "text/plain": [
       "<Figure size 640x480 with 1 Axes>"
      ]
     },
     "metadata": {},
     "output_type": "display_data"
    }
   ],
   "source": [
    "nomi = df[\"Nome\"]\n",
    "media_voti_alunni = df[\"Media voto alunno\"]\n",
    "plt.bar(nomi, media_voti_alunni, color='skyblue')\n",
    "plt.title(\"Media Voti per Alunno\")\n",
    "plt.xlabel(\"Alunni\")\n",
    "plt.ylabel(\"Media Voti\")\n",
    "plt.tight_layout()"
   ]
  }
 ],
 "metadata": {
  "kernelspec": {
   "display_name": "Python 3",
   "language": "python",
   "name": "python3"
  },
  "language_info": {
   "codemirror_mode": {
    "name": "ipython",
    "version": 3
   },
   "file_extension": ".py",
   "mimetype": "text/x-python",
   "name": "python",
   "nbconvert_exporter": "python",
   "pygments_lexer": "ipython3",
   "version": "3.13.5"
  }
 },
 "nbformat": 4,
 "nbformat_minor": 5
}
