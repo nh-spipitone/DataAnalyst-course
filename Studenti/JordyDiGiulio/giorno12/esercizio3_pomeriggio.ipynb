{
 "cells": [
  {
   "cell_type": "code",
   "execution_count": 1,
   "id": "d52fa8d0",
   "metadata": {},
   "outputs": [],
   "source": [
    "# Librerie per manipolazione dati\n",
    "import pandas as pd           # Analisi e manipolazione dati strutturati\n",
    "import numpy as np           # Calcoli numerici e operazioni matematiche\n",
    "\n",
    "# Librerie per visualizzazione\n",
    "import matplotlib.pyplot as plt  # Creazione di grafici base\n",
    "import seaborn as sns           # Visualizzazioni statistiche avanzate\n",
    "\n",
    "# Librerie per Machine Learning\n",
    "from sklearn.model_selection import train_test_split  # Divisione dataset train/test\n",
    "from sklearn.compose import ColumnTransformer         # Preprocessing colonne diverse\n",
    "from sklearn.preprocessing import OneHotEncoder, StandardScaler  # Encoding e scaling\n",
    "from sklearn.pipeline import Pipeline                 # Creazione pipeline ML\n",
    "from sklearn.linear_model import LinearRegression     # Modello di regressione lineare\n",
    "from sklearn.metrics import r2_score, mean_absolute_error, mean_squared_error  # Metriche"
   ]
  },
  {
   "cell_type": "code",
   "execution_count": 2,
   "id": "d5b37c43",
   "metadata": {},
   "outputs": [
    {
     "data": {
      "application/vnd.microsoft.datawrangler.viewer.v0+json": {
       "columns": [
        {
         "name": "index",
         "rawType": "int64",
         "type": "integer"
        },
        {
         "name": "mpg",
         "rawType": "float64",
         "type": "float"
        },
        {
         "name": "horsepower",
         "rawType": "float64",
         "type": "float"
        },
        {
         "name": "weight",
         "rawType": "float64",
         "type": "float"
        },
        {
         "name": "acceleration",
         "rawType": "float64",
         "type": "float"
        },
        {
         "name": "model_year",
         "rawType": "int64",
         "type": "integer"
        },
        {
         "name": "origin",
         "rawType": "int64",
         "type": "integer"
        }
       ],
       "ref": "33dc7156-844c-4b9a-b128-58503f7dfea0",
       "rows": [
        [
         "0",
         "29.44",
         "134.9",
         "3100.2",
         "13.3",
         "72",
         "1"
        ],
        [
         "1",
         "31.34",
         "115.9",
         "3138.6",
         "13.9",
         "72",
         "1"
        ],
        [
         "2",
         "29.0",
         "139.4",
         "2728.0",
         "16.5",
         "80",
         "2"
        ],
        [
         "3",
         "23.26",
         "165.7",
         "3092.9",
         "16.2",
         "82",
         "2"
        ],
        [
         "4",
         "30.26",
         "113.0",
         "3117.2",
         "15.0",
         "71",
         "2"
        ],
        [
         "5",
         "37.2",
         "113.0",
         "2714.3",
         "15.2",
         "82",
         "3"
        ],
        [
         "6",
         "24.17",
         "167.4",
         "3746.3",
         "17.6",
         "79",
         "1"
        ],
        [
         "7",
         "28.43",
         "143.0",
         "3189.5",
         "13.8",
         "72",
         "1"
        ],
        [
         "8",
         "36.71",
         "105.9",
         "2523.5",
         "16.1",
         "72",
         "3"
        ],
        [
         "9",
         "29.42",
         "136.3",
         "3262.6",
         "14.6",
         "74",
         "1"
        ],
        [
         "10",
         "33.14",
         "106.1",
         "2610.1",
         "14.6",
         "74",
         "2"
        ],
        [
         "11",
         "30.07",
         "106.0",
         "3314.8",
         "17.2",
         "71",
         "2"
        ],
        [
         "12",
         "28.09",
         "127.3",
         "3463.4",
         "16.7",
         "81",
         "2"
        ],
        [
         "13",
         "31.86",
         "62.6",
         "2671.7",
         "16.6",
         "79",
         "1"
        ],
        [
         "14",
         "27.66",
         "68.3",
         "3385.4",
         "17.6",
         "82",
         "2"
        ],
        [
         "15",
         "33.82",
         "103.1",
         "3165.1",
         "15.0",
         "75",
         "3"
        ],
        [
         "16",
         "30.14",
         "89.6",
         "3328.8",
         "16.4",
         "74",
         "3"
        ],
        [
         "17",
         "26.23",
         "129.4",
         "3758.7",
         "14.4",
         "75",
         "1"
        ],
        [
         "18",
         "31.6",
         "92.8",
         "2901.8",
         "15.6",
         "70",
         "3"
        ],
        [
         "19",
         "34.96",
         "77.6",
         "2698.5",
         "14.7",
         "74",
         "3"
        ],
        [
         "20",
         "35.3",
         "164.0",
         "2644.2",
         "15.2",
         "78",
         "1"
        ],
        [
         "21",
         "33.15",
         "113.2",
         "2673.7",
         "16.2",
         "81",
         "2"
        ],
        [
         "22",
         "29.1",
         "122.0",
         "2969.2",
         "13.4",
         "79",
         "2"
        ],
        [
         "23",
         "30.96",
         "77.3",
         "3136.5",
         "19.2",
         "71",
         "2"
        ],
        [
         "24",
         "32.44",
         "103.7",
         "3110.7",
         "13.0",
         "70",
         "1"
        ],
        [
         "25",
         "27.25",
         "123.3",
         "3330.9",
         "12.6",
         "79",
         "3"
        ],
        [
         "26",
         "33.26",
         "85.5",
         "3005.2",
         "17.3",
         "82",
         "2"
        ],
        [
         "27",
         "22.2",
         "131.3",
         "3581.4",
         "16.6",
         "80",
         "2"
        ],
        [
         "28",
         "30.99",
         "102.0",
         "2894.1",
         "16.2",
         "78",
         "1"
        ],
        [
         "29",
         "26.37",
         "111.2",
         "4088.1",
         "16.3",
         "79",
         "2"
        ],
        [
         "30",
         "32.21",
         "101.9",
         "3250.3",
         "15.0",
         "78",
         "1"
        ],
        [
         "31",
         "28.05",
         "175.6",
         "2657.1",
         "13.2",
         "78",
         "3"
        ],
        [
         "32",
         "29.35",
         "119.6",
         "2571.6",
         "15.2",
         "75",
         "1"
        ],
        [
         "33",
         "29.98",
         "88.3",
         "3193.0",
         "13.6",
         "77",
         "1"
        ],
        [
         "34",
         "27.41",
         "144.7",
         "2910.6",
         "17.0",
         "80",
         "1"
        ],
        [
         "35",
         "29.94",
         "83.4",
         "3285.6",
         "14.7",
         "82",
         "1"
        ],
        [
         "36",
         "28.99",
         "126.3",
         "3189.3",
         "13.3",
         "70",
         "3"
        ],
        [
         "37",
         "30.06",
         "61.2",
         "2970.9",
         "14.4",
         "79",
         "3"
        ],
        [
         "38",
         "35.1",
         "80.2",
         "2661.3",
         "15.8",
         "73",
         "2"
        ],
        [
         "39",
         "32.68",
         "125.9",
         "2394.1",
         "13.9",
         "70",
         "3"
        ],
        [
         "40",
         "32.37",
         "142.2",
         "2821.4",
         "13.4",
         "77",
         "3"
        ],
        [
         "41",
         "24.59",
         "125.1",
         "3342.6",
         "15.5",
         "70",
         "2"
        ],
        [
         "42",
         "27.88",
         "116.5",
         "3085.6",
         "15.5",
         "72",
         "3"
        ],
        [
         "43",
         "34.09",
         "111.0",
         "2501.7",
         "14.0",
         "82",
         "1"
        ],
        [
         "44",
         "30.03",
         "75.6",
         "3069.3",
         "14.1",
         "73",
         "1"
        ],
        [
         "45",
         "29.96",
         "98.4",
         "3154.1",
         "15.5",
         "77",
         "2"
        ],
        [
         "46",
         "32.52",
         "106.2",
         "2646.5",
         "12.1",
         "75",
         "2"
        ],
        [
         "47",
         "28.94",
         "151.7",
         "3061.5",
         "12.2",
         "79",
         "2"
        ],
        [
         "48",
         "28.32",
         "130.3",
         "3023.3",
         "13.6",
         "81",
         "1"
        ],
        [
         "49",
         "34.9",
         "67.1",
         "2542.8",
         "14.6",
         "76",
         "3"
        ]
       ],
       "shape": {
        "columns": 6,
        "rows": 150
       }
      },
      "text/html": [
       "<div>\n",
       "<style scoped>\n",
       "    .dataframe tbody tr th:only-of-type {\n",
       "        vertical-align: middle;\n",
       "    }\n",
       "\n",
       "    .dataframe tbody tr th {\n",
       "        vertical-align: top;\n",
       "    }\n",
       "\n",
       "    .dataframe thead th {\n",
       "        text-align: right;\n",
       "    }\n",
       "</style>\n",
       "<table border=\"1\" class=\"dataframe\">\n",
       "  <thead>\n",
       "    <tr style=\"text-align: right;\">\n",
       "      <th></th>\n",
       "      <th>mpg</th>\n",
       "      <th>horsepower</th>\n",
       "      <th>weight</th>\n",
       "      <th>acceleration</th>\n",
       "      <th>model_year</th>\n",
       "      <th>origin</th>\n",
       "    </tr>\n",
       "  </thead>\n",
       "  <tbody>\n",
       "    <tr>\n",
       "      <th>0</th>\n",
       "      <td>29.44</td>\n",
       "      <td>134.9</td>\n",
       "      <td>3100.2</td>\n",
       "      <td>13.3</td>\n",
       "      <td>72</td>\n",
       "      <td>1</td>\n",
       "    </tr>\n",
       "    <tr>\n",
       "      <th>1</th>\n",
       "      <td>31.34</td>\n",
       "      <td>115.9</td>\n",
       "      <td>3138.6</td>\n",
       "      <td>13.9</td>\n",
       "      <td>72</td>\n",
       "      <td>1</td>\n",
       "    </tr>\n",
       "    <tr>\n",
       "      <th>2</th>\n",
       "      <td>29.00</td>\n",
       "      <td>139.4</td>\n",
       "      <td>2728.0</td>\n",
       "      <td>16.5</td>\n",
       "      <td>80</td>\n",
       "      <td>2</td>\n",
       "    </tr>\n",
       "    <tr>\n",
       "      <th>3</th>\n",
       "      <td>23.26</td>\n",
       "      <td>165.7</td>\n",
       "      <td>3092.9</td>\n",
       "      <td>16.2</td>\n",
       "      <td>82</td>\n",
       "      <td>2</td>\n",
       "    </tr>\n",
       "    <tr>\n",
       "      <th>4</th>\n",
       "      <td>30.26</td>\n",
       "      <td>113.0</td>\n",
       "      <td>3117.2</td>\n",
       "      <td>15.0</td>\n",
       "      <td>71</td>\n",
       "      <td>2</td>\n",
       "    </tr>\n",
       "    <tr>\n",
       "      <th>...</th>\n",
       "      <td>...</td>\n",
       "      <td>...</td>\n",
       "      <td>...</td>\n",
       "      <td>...</td>\n",
       "      <td>...</td>\n",
       "      <td>...</td>\n",
       "    </tr>\n",
       "    <tr>\n",
       "      <th>145</th>\n",
       "      <td>32.62</td>\n",
       "      <td>143.5</td>\n",
       "      <td>2722.8</td>\n",
       "      <td>16.3</td>\n",
       "      <td>71</td>\n",
       "      <td>3</td>\n",
       "    </tr>\n",
       "    <tr>\n",
       "      <th>146</th>\n",
       "      <td>29.18</td>\n",
       "      <td>82.9</td>\n",
       "      <td>3359.8</td>\n",
       "      <td>15.7</td>\n",
       "      <td>80</td>\n",
       "      <td>3</td>\n",
       "    </tr>\n",
       "    <tr>\n",
       "      <th>147</th>\n",
       "      <td>31.65</td>\n",
       "      <td>80.4</td>\n",
       "      <td>3122.9</td>\n",
       "      <td>13.1</td>\n",
       "      <td>77</td>\n",
       "      <td>1</td>\n",
       "    </tr>\n",
       "    <tr>\n",
       "      <th>148</th>\n",
       "      <td>28.31</td>\n",
       "      <td>135.7</td>\n",
       "      <td>3325.1</td>\n",
       "      <td>14.0</td>\n",
       "      <td>79</td>\n",
       "      <td>3</td>\n",
       "    </tr>\n",
       "    <tr>\n",
       "      <th>149</th>\n",
       "      <td>27.91</td>\n",
       "      <td>128.9</td>\n",
       "      <td>3251.9</td>\n",
       "      <td>12.9</td>\n",
       "      <td>72</td>\n",
       "      <td>2</td>\n",
       "    </tr>\n",
       "  </tbody>\n",
       "</table>\n",
       "<p>150 rows × 6 columns</p>\n",
       "</div>"
      ],
      "text/plain": [
       "       mpg  horsepower  weight  acceleration  model_year  origin\n",
       "0    29.44       134.9  3100.2          13.3          72       1\n",
       "1    31.34       115.9  3138.6          13.9          72       1\n",
       "2    29.00       139.4  2728.0          16.5          80       2\n",
       "3    23.26       165.7  3092.9          16.2          82       2\n",
       "4    30.26       113.0  3117.2          15.0          71       2\n",
       "..     ...         ...     ...           ...         ...     ...\n",
       "145  32.62       143.5  2722.8          16.3          71       3\n",
       "146  29.18        82.9  3359.8          15.7          80       3\n",
       "147  31.65        80.4  3122.9          13.1          77       1\n",
       "148  28.31       135.7  3325.1          14.0          79       3\n",
       "149  27.91       128.9  3251.9          12.9          72       2\n",
       "\n",
       "[150 rows x 6 columns]"
      ]
     },
     "execution_count": 2,
     "metadata": {},
     "output_type": "execute_result"
    }
   ],
   "source": [
    "df = pd.read_csv(r'C:\\Users\\poppo\\Desktop\\riverloop project\\DataAnalyst-course\\Studenti\\JordyDiGiulio\\giorno12\\mpg_simulato.csv')\n",
    "df"
   ]
  },
  {
   "cell_type": "code",
   "execution_count": 10,
   "id": "12e71aca",
   "metadata": {},
   "outputs": [
    {
     "data": {
      "image/png": "[encoded data removed]",
      "text/plain": [
       "<Figure size 640x480 with 1 Axes>"
      ]
     },
     "metadata": {},
     "output_type": "display_data"
    },
    {
     "name": "stdout",
     "output_type": "stream",
     "text": [
      "Coefficiente (pendenza): -0.0359432099582927\n",
      "Intercetta: 34.202000246644886\n",
      "R^2: 0.10076051929336693\n",
      "Errore quadratico medio: 9.15453178197315\n"
     ]
    }
   ],
   "source": [
    "y = df['mpg']\n",
    "x = df[['horsepower']]\n",
    "\n",
    "model = LinearRegression()\n",
    "model.fit(x, y)\n",
    "y_predetta = model.predict(x)\n",
    "\n",
    "plt.scatter(x, y, color='blue', label='Dati reali')\n",
    "plt.plot(x, model.predict(x), color='red', label='Retta di regressione')\n",
    "plt.xlabel(\"horsepower\")\n",
    "plt.ylabel(\"mpg\")\n",
    "plt.legend()\n",
    "plt.title(\"Regressione lineare semplice\")\n",
    "plt.show()\n",
    "\n",
    "print(\"Coefficiente (pendenza):\", model.coef_[0])\n",
    "print(\"Intercetta:\", model.intercept_)\n",
    "print(\"R^2:\", r2_score(y, y_predetta))\n",
    "print(\"Errore quadratico medio:\", mean_squared_error(y, y_predetta))"
   ]
  },
  {
   "cell_type": "code",
   "execution_count": 9,
   "id": "581e5e16",
   "metadata": {},
   "outputs": [
    {
     "data": {
      "image/png": "[encoded data removed]",
      "text/plain": [
       "<Figure size 640x480 with 1 Axes>"
      ]
     },
     "metadata": {},
     "output_type": "display_data"
    },
    {
     "name": "stdout",
     "output_type": "stream",
     "text": [
      "Coefficiente (pendenza): -0.005191751272693188\n",
      "Intercetta: 45.70085424551034\n",
      "R^2: 0.43927988498699533\n",
      "Errore quadratico medio: 5.7083015412585265\n"
     ]
    }
   ],
   "source": [
    "x1 = df[['weight']]\n",
    "\n",
    "model1 = LinearRegression()\n",
    "model1.fit(x1,y)\n",
    "y1_predetta = model1.predict(x1)\n",
    "\n",
    "plt.scatter(x1, y, color='blue', label='Dati reali')\n",
    "plt.plot(x1, model1.predict(x1), color='red', label='Retta di regressione')\n",
    "plt.xlabel(\"weight\")\n",
    "plt.ylabel(\"mpg\")\n",
    "plt.legend()\n",
    "plt.title(\"Regressione lineare semplice\")\n",
    "plt.show()\n",
    "\n",
    "print(\"Coefficiente (pendenza):\", model1.coef_[0])\n",
    "print(\"Intercetta:\", model1.intercept_)\n",
    "print(\"R^2:\", r2_score(y, y1_predetta))\n",
    "print(\"Errore quadratico medio:\", mean_squared_error(y, y1_predetta))"
   ]
  }
 ],
 "metadata": {
  "kernelspec": {
   "display_name": "venv",
   "language": "python",
   "name": "python3"
  },
  "language_info": {
   "codemirror_mode": {
    "name": "ipython",
    "version": 3
   },
   "file_extension": ".py",
   "mimetype": "text/x-python",
   "name": "python",
   "nbconvert_exporter": "python",
   "pygments_lexer": "ipython3",
   "version": "3.10.11"
  }
 },
 "nbformat": 4,
 "nbformat_minor": 5
}
