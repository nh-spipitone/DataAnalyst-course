{
 "cells": [
  {
   "cell_type": "code",
   "execution_count": 1,
   "id": "d2ade324",
   "metadata": {},
   "outputs": [],
   "source": [
    "# Librerie per manipolazione dati\n",
    "import pandas as pd           # Analisi e manipolazione dati strutturati\n",
    "import numpy as np           # Calcoli numerici e operazioni matematiche\n",
    "\n",
    "# Librerie per visualizzazione\n",
    "import matplotlib.pyplot as plt  # Creazione di grafici base\n",
    "import seaborn as sns           # Visualizzazioni statistiche avanzate\n",
    "\n",
    "# Librerie per Machine Learning\n",
    "from sklearn.model_selection import train_test_split  # Divisione dataset train/test\n",
    "from sklearn.compose import ColumnTransformer         # Preprocessing colonne diverse\n",
    "from sklearn.preprocessing import OneHotEncoder, StandardScaler  # Encoding e scaling\n",
    "from sklearn.pipeline import Pipeline                 # Creazione pipeline ML\n",
    "from sklearn.linear_model import LinearRegression     # Modello di regressione lineare\n",
    "from sklearn.metrics import r2_score, mean_absolute_error, mean_squared_error  # Metriche"
   ]
  },
  {
   "cell_type": "code",
   "execution_count": 2,
   "id": "8833b561",
   "metadata": {},
   "outputs": [
    {
     "name": "stdout",
     "output_type": "stream",
     "text": [
      "📏 Dimensioni del dataset: 100 righe × 2 colonne\n",
      "<class 'pandas.core.frame.DataFrame'>\n",
      "RangeIndex: 100 entries, 0 to 99\n",
      "Data columns (total 2 columns):\n",
      " #   Column     Non-Null Count  Dtype  \n",
      "---  ------     --------------  -----  \n",
      " 0   OreStudio  100 non-null    float64\n",
      " 1   VotoEsame  100 non-null    float64\n",
      "dtypes: float64(2)\n",
      "memory usage: 1.7 KB\n"
     ]
    },
    {
     "data": {
      "application/vnd.microsoft.datawrangler.viewer.v0+json": {
       "columns": [
        {
         "name": "index",
         "rawType": "object",
         "type": "string"
        },
        {
         "name": "OreStudio",
         "rawType": "float64",
         "type": "float"
        },
        {
         "name": "VotoEsame",
         "rawType": "float64",
         "type": "float"
        }
       ],
       "ref": "0ef3533a-6aed-4c01-af7e-6fefce2a1206",
       "rows": [
        [
         "count",
         "100.0",
         "100.0"
        ],
        [
         "mean",
         "4.701899999999999",
         "16.7516"
        ],
        [
         "std",
         "2.9747787270228145",
         "7.530350404338513"
        ],
        [
         "min",
         "0.06",
         "3.37"
        ],
        [
         "25%",
         "1.9325",
         "10.217500000000001"
        ],
        [
         "50%",
         "4.64",
         "15.469999999999999"
        ],
        [
         "75%",
         "7.305",
         "23.302500000000002"
        ],
        [
         "max",
         "9.87",
         "32.17"
        ]
       ],
       "shape": {
        "columns": 2,
        "rows": 8
       }
      },
      "text/html": [
       "<div>\n",
       "<style scoped>\n",
       "    .dataframe tbody tr th:only-of-type {\n",
       "        vertical-align: middle;\n",
       "    }\n",
       "\n",
       "    .dataframe tbody tr th {\n",
       "        vertical-align: top;\n",
       "    }\n",
       "\n",
       "    .dataframe thead th {\n",
       "        text-align: right;\n",
       "    }\n",
       "</style>\n",
       "<table border=\"1\" class=\"dataframe\">\n",
       "  <thead>\n",
       "    <tr style=\"text-align: right;\">\n",
       "      <th></th>\n",
       "      <th>OreStudio</th>\n",
       "      <th>VotoEsame</th>\n",
       "    </tr>\n",
       "  </thead>\n",
       "  <tbody>\n",
       "    <tr>\n",
       "      <th>count</th>\n",
       "      <td>100.000000</td>\n",
       "      <td>100.00000</td>\n",
       "    </tr>\n",
       "    <tr>\n",
       "      <th>mean</th>\n",
       "      <td>4.701900</td>\n",
       "      <td>16.75160</td>\n",
       "    </tr>\n",
       "    <tr>\n",
       "      <th>std</th>\n",
       "      <td>2.974779</td>\n",
       "      <td>7.53035</td>\n",
       "    </tr>\n",
       "    <tr>\n",
       "      <th>min</th>\n",
       "      <td>0.060000</td>\n",
       "      <td>3.37000</td>\n",
       "    </tr>\n",
       "    <tr>\n",
       "      <th>25%</th>\n",
       "      <td>1.932500</td>\n",
       "      <td>10.21750</td>\n",
       "    </tr>\n",
       "    <tr>\n",
       "      <th>50%</th>\n",
       "      <td>4.640000</td>\n",
       "      <td>15.47000</td>\n",
       "    </tr>\n",
       "    <tr>\n",
       "      <th>75%</th>\n",
       "      <td>7.305000</td>\n",
       "      <td>23.30250</td>\n",
       "    </tr>\n",
       "    <tr>\n",
       "      <th>max</th>\n",
       "      <td>9.870000</td>\n",
       "      <td>32.17000</td>\n",
       "    </tr>\n",
       "  </tbody>\n",
       "</table>\n",
       "</div>"
      ],
      "text/plain": [
       "        OreStudio  VotoEsame\n",
       "count  100.000000  100.00000\n",
       "mean     4.701900   16.75160\n",
       "std      2.974779    7.53035\n",
       "min      0.060000    3.37000\n",
       "25%      1.932500   10.21750\n",
       "50%      4.640000   15.47000\n",
       "75%      7.305000   23.30250\n",
       "max      9.870000   32.17000"
      ]
     },
     "metadata": {},
     "output_type": "display_data"
    },
    {
     "name": "stdout",
     "output_type": "stream",
     "text": [
      "Valori mancanti per colonna:\n",
      "  ✅ OreStudio: nessun valore mancante\n",
      "  ✅ VotoEsame: nessun valore mancante\n",
      "\n",
      "🎉 Ottimo! Il dataset non ha valori mancanti.\n"
     ]
    }
   ],
   "source": [
    "df = pd.read_csv(r\"C:\\Users\\poppo\\Desktop\\riverloop project\\DataAnalyst-course\\Studenti\\JordyDiGiulio\\giorno12\\dataset_regressione.csv\")\n",
    "print(f\"📏 Dimensioni del dataset: {df.shape[0]} righe × {df.shape[1]} colonne\")\n",
    "df.info()\n",
    "display(df.describe())\n",
    "valori_mancanti = df.isnull().sum()\n",
    "print(\"Valori mancanti per colonna:\")\n",
    "for colonna, numero in valori_mancanti.items():\n",
    "    if numero > 0:\n",
    "        print(f\"  ❌ {colonna}: {numero} valori mancanti\")\n",
    "    else:\n",
    "        print(f\"  ✅ {colonna}: nessun valore mancante\")\n",
    "        \n",
    "if valori_mancanti.sum() == 0:\n",
    "    print(\"\\n🎉 Ottimo! Il dataset non ha valori mancanti.\")\n",
    "else:\n",
    "    print(f\"\\n⚠️  Attenzione: {valori_mancanti.sum()} valori mancanti totali da gestire.\")\n"
   ]
  },
  {
   "cell_type": "code",
   "execution_count": 8,
   "id": "39ece20a",
   "metadata": {},
   "outputs": [
    {
     "name": "stdout",
     "output_type": "stream",
     "text": [
      "Coefficiente angolare: 2.379331008824735\n",
      "Intercetta: 5.430648964067517\n",
      "R²: 0.8977423646048717\n",
      "Errore quadratico medio: 5.870264603680871\n"
     ]
    },
    {
     "data": {
      "image/png": "[encoded data removed]",
      "text/plain": [
       "<Figure size 640x480 with 1 Axes>"
      ]
     },
     "metadata": {},
     "output_type": "display_data"
    }
   ],
   "source": [
    "ind_var = df['OreStudio'].values\n",
    "ind_var = ind_var.reshape(-1,1)\n",
    "dip_var = df['VotoEsame'].values\n",
    "\n",
    "x_train, x_test, y_train, y_test = train_test_split(ind_var, dip_var, test_size=0.2, random_state=42)\n",
    "\n",
    "model = LinearRegression()\n",
    "model.fit(x_train, y_train)\n",
    "\n",
    "y_predetta = model.predict(x_test)\n",
    "\n",
    "print(\"Coefficiente angolare:\", model.coef_[0])\n",
    "print(\"Intercetta:\", model.intercept_)\n",
    "print(\"R²:\", r2_score(y_test, y_predetta))\n",
    "print(\"Errore quadratico medio:\", mean_squared_error(y_test, y_predetta))\n",
    "\n",
    "plt.scatter(ind_var, dip_var, color='blue', label='Dati reali')\n",
    "plt.plot(ind_var, model.predict(ind_var), color='red', label='Retta di regressione')\n",
    "plt.xlabel(\"Ore di studio\")\n",
    "plt.ylabel(\"Voto\")\n",
    "plt.legend()\n",
    "plt.title(\"Regressione lineare semplice\")\n",
    "plt.show()\n"
   ]
  },
  {
   "cell_type": "code",
   "execution_count": 9,
   "id": "f291e978",
   "metadata": {},
   "outputs": [
    {
     "name": "stdout",
     "output_type": "stream",
     "text": [
      "Voto previsto per 5 ore di studio: 14.35\n"
     ]
    }
   ],
   "source": [
    "voto_previsto = model.predict(ind_var)\n",
    "\n",
    "print(f\"Voto previsto per 5 ore di studio: {voto_previsto[0]:.2f}\")"
   ]
  }
 ],
 "metadata": {
  "kernelspec": {
   "display_name": "venv",
   "language": "python",
   "name": "python3"
  },
  "language_info": {
   "codemirror_mode": {
    "name": "ipython",
    "version": 3
   },
   "file_extension": ".py",
   "mimetype": "text/x-python",
   "name": "python",
   "nbconvert_exporter": "python",
   "pygments_lexer": "ipython3",
   "version": "3.10.11"
  }
 },
 "nbformat": 4,
 "nbformat_minor": 5
}
